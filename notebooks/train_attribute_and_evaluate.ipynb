{
 "cells": [
  {
   "cell_type": "code",
   "execution_count": 1,
   "metadata": {
    "ExecuteTime": {
     "end_time": "2020-11-19T19:50:12.516753Z",
     "start_time": "2020-11-19T19:50:12.497088Z"
    }
   },
   "outputs": [],
   "source": [
    "%load_ext autoreload\n",
    "%autoreload 2"
   ]
  },
  {
   "cell_type": "code",
   "execution_count": 2,
   "metadata": {
    "ExecuteTime": {
     "end_time": "2020-11-19T19:50:15.369290Z",
     "start_time": "2020-11-19T19:50:15.340458Z"
    }
   },
   "outputs": [],
   "source": [
    "import sys\n",
    "sys.path.append('..')"
   ]
  },
  {
   "cell_type": "code",
   "execution_count": 3,
   "metadata": {
    "ExecuteTime": {
     "end_time": "2020-11-19T19:50:15.593050Z",
     "start_time": "2020-11-19T19:50:15.572136Z"
    }
   },
   "outputs": [],
   "source": [
    "import sys\n",
    "\n",
    "IN_COLAB = 'google.colab' in sys.modules\n",
    "REPO_DIR = '..' if IN_COLAB  else '..'"
   ]
  },
  {
   "cell_type": "markdown",
   "metadata": {
    "colab_type": "text",
    "id": "OD_uoUHdGp5t"
   },
   "source": [
    "# Code"
   ]
  },
  {
   "cell_type": "code",
   "execution_count": 13,
   "metadata": {
    "ExecuteTime": {
     "end_time": "2020-11-19T20:01:09.511494Z",
     "start_time": "2020-11-19T20:01:09.431182Z"
    },
    "cellView": "both",
    "colab": {},
    "colab_type": "code",
    "id": "8moWllwb-yZr"
   },
   "outputs": [
    {
     "name": "stdout",
     "output_type": "stream",
     "text": [
      "tensorflow           = 2.4.1\n",
      "sonnet               = 2.0.0\n",
      "graph_attribution    = 1.0.0b\n"
     ]
    }
   ],
   "source": [
    "import os\n",
    "import time\n",
    "import itertools\n",
    "import collections\n",
    "from tqdm import tqdm\n",
    "\n",
    "from IPython.display import display\n",
    "\n",
    "import numpy as np\n",
    "import matplotlib.pyplot as plt\n",
    "import pandas as pd\n",
    "import seaborn as sns\n",
    "\n",
    "import tensorflow as tf\n",
    "import sonnet as snt\n",
    "import graph_nets\n",
    "from graph_nets.graphs import GraphsTuple\n",
    "import graph_attribution as gatt\n",
    "\n",
    "# Ignore tf/graph_nets UserWarning:\n",
    "# Converting sparse IndexedSlices to a dense Tensor of unknown shape\n",
    "import warnings\n",
    "warnings.simplefilter(\"ignore\", UserWarning)\n",
    "\n",
    "for mod in [tf, snt, gatt]:\n",
    "    print(f'{mod.__name__:20s} = {mod.__version__}')"
   ]
  },
  {
   "cell_type": "markdown",
   "metadata": {
    "colab_type": "text",
    "id": "EAwhhlmhUWHH"
   },
   "source": [
    "## Graph Attribution specific imports"
   ]
  },
  {
   "cell_type": "code",
   "execution_count": 5,
   "metadata": {
    "ExecuteTime": {
     "end_time": "2020-11-19T19:58:14.416163Z",
     "start_time": "2020-11-19T19:58:14.337198Z"
    }
   },
   "outputs": [
    {
     "name": "stdout",
     "output_type": "stream",
     "text": [
      "Reading data from: ../data\n"
     ]
    }
   ],
   "source": [
    "from graph_attribution import tasks\n",
    "from graph_attribution import graphnet_models as gnn_models\n",
    "from graph_attribution import graphnet_techniques as techniques\n",
    "from graph_attribution import datasets\n",
    "from graph_attribution import experiments\n",
    "from graph_attribution import templates\n",
    "from graph_attribution import graphs as graph_utils\n",
    "\n",
    "datasets.DATA_DIR = os.path.join(REPO_DIR, 'data')\n",
    "print(f'Reading data from: {datasets.DATA_DIR}')"
   ]
  },
  {
   "cell_type": "markdown",
   "metadata": {
    "colab_type": "text",
    "id": "j-1hgin_htxk"
   },
   "source": [
    "# Load Experiment data, a task and attribution techniques"
   ]
  },
  {
   "cell_type": "code",
   "execution_count": 6,
   "metadata": {
    "ExecuteTime": {
     "end_time": "2020-11-19T19:58:18.979633Z",
     "start_time": "2020-11-19T19:58:18.895459Z"
    },
    "colab": {},
    "colab_type": "code",
    "id": "83FuJCHIPy9B"
   },
   "outputs": [
    {
     "name": "stdout",
     "output_type": "stream",
     "text": [
      "Available tasks: ['benzene', 'logic7', 'logic8', 'logic10', 'crippen', 'bashapes', 'treegrid', 'bacommunity']\n",
      "Available model types: ['gcn', 'gat', 'mpnn', 'graphnet']\n",
      "Available ATT techniques: ['Random', 'GradInput', 'SmoothGrad(GradInput)', 'GradCAM-last', 'GradCAM-all', 'CAM']\n"
     ]
    }
   ],
   "source": [
    "print(f'Available tasks: {[t.name for t in tasks.Task]}')\n",
    "print(f'Available model types: {[m.name for m in gnn_models.BlockType]}')\n",
    "print(f'Available ATT techniques: {list(techniques.get_techniques_dict(None,None).keys())}')"
   ]
  },
  {
   "cell_type": "code",
   "execution_count": 7,
   "metadata": {
    "ExecuteTime": {
     "end_time": "2020-11-19T19:58:20.566788Z",
     "start_time": "2020-11-19T19:58:19.250832Z"
    },
    "colab": {},
    "colab_type": "code",
    "id": "uALixzYcevP4",
    "scrolled": false
   },
   "outputs": [
    {
     "name": "stdout",
     "output_type": "stream",
     "text": [
      "Shapes of GraphsTuple's fields:\n",
      "GraphsTuple(nodes=TensorShape([81088, 14]), edges=TensorShape([172570, 5]), receivers=TensorShape([172570]), senders=TensorShape([172570]), globals=TensorShape([3840, 1]), n_node=TensorShape([3840]), n_edge=TensorShape([3840]))\n",
      "Experiment data fields:['x_train', 'x_test', 'y_train', 'y_test', 'att_test', 'x_aug', 'y_aug']\n"
     ]
    }
   ],
   "source": [
    "task_type = 'logic7'\n",
    "block_type = 'gcn'\n",
    "\n",
    "task_dir = datasets.get_task_dir(task_type)\n",
    "exp, task, methods = experiments.get_experiment_setup(task_type, block_type)\n",
    "task_act, task_loss = task.get_nn_activation_fn(), task.get_nn_loss_fn()\n",
    "graph_utils.print_graphs_tuple(exp.x_train)\n",
    "print(f'Experiment data fields:{list(exp.__dict__.keys())}')"
   ]
  },
  {
   "cell_type": "markdown",
   "metadata": {
    "colab_type": "text",
    "id": "oa5pg38yukMU"
   },
   "source": [
    "# Create a GNN model\n",
    "\n",
    "## Define hparams of the experiment"
   ]
  },
  {
   "cell_type": "code",
   "execution_count": 8,
   "metadata": {
    "ExecuteTime": {
     "end_time": "2020-11-19T19:58:20.635213Z",
     "start_time": "2020-11-19T19:58:20.568997Z"
    },
    "colab": {},
    "colab_type": "code",
    "id": "zYKgsgksQ6T6"
   },
   "outputs": [
    {
     "data": {
      "text/plain": [
       "batch_size: 256\n",
       "block_type: gcn\n",
       "edge_size: 20\n",
       "epochs: 300\n",
       "global_size: 100\n",
       "learning_rate: 0.0003\n",
       "n_layers: 3\n",
       "node_size: 50\n",
       "random_seed: 42\n",
       "task_type: logic7"
      ]
     },
     "execution_count": 8,
     "metadata": {},
     "output_type": "execute_result"
    }
   ],
   "source": [
    "hp = gatt.hparams.get_hparams({'block_type':block_type, 'task_type':task_type})\n",
    "hp"
   ]
  },
  {
   "cell_type": "markdown",
   "metadata": {
    "colab_type": "text",
    "id": "0eHoQUuCSR49"
   },
   "source": [
    "## Instantiate model"
   ]
  },
  {
   "cell_type": "code",
   "execution_count": 9,
   "metadata": {
    "ExecuteTime": {
     "end_time": "2020-11-19T19:58:23.774392Z",
     "start_time": "2020-11-19T19:58:22.445118Z"
    },
    "colab": {},
    "colab_type": "code",
    "id": "xFD0Z2psUslb"
   },
   "outputs": [
    {
     "name": "stdout",
     "output_type": "stream",
     "text": [
      "GNN : gcn\n",
      "\n",
      "| Variable                                  | Spec        | Trainable   | Device   |\n",
      "|-------------------------------------------+-------------+-------------+----------|\n",
      "| gcn/ReadoutGAP/linear/w                   | f32[20,100] | True        | CPU      |\n",
      "| gcn/ReadoutGAP/linear/w                   | f32[50,100] | True        | CPU      |\n",
      "| gcn/ReadoutGAP/linear/b                   | f32[100]    | True        | CPU      |\n",
      "| gcn/ReadoutGAP/linear/b                   | f32[100]    | True        | CPU      |\n",
      "| gcn/gcn_1/layer_norm/offset               | f32[50]     | True        | CPU      |\n",
      "| gcn/gcn_1/layer_norm/scale                | f32[50]     | True        | CPU      |\n",
      "| gcn/gcn_1/mlp/linear_0/w                  | f32[120,50] | True        | CPU      |\n",
      "| gcn/gcn_1/mlp/linear_0/b                  | f32[50]     | True        | CPU      |\n",
      "| gcn/gcn_1/mlp/linear_1/w                  | f32[50,50]  | True        | CPU      |\n",
      "| gcn/gcn_1/mlp/linear_1/b                  | f32[50]     | True        | CPU      |\n",
      "| gcn/gcn_2/layer_norm/offset               | f32[50]     | True        | CPU      |\n",
      "| gcn/gcn_2/layer_norm/scale                | f32[50]     | True        | CPU      |\n",
      "| gcn/gcn_2/mlp/linear_0/w                  | f32[120,50] | True        | CPU      |\n",
      "| gcn/gcn_2/mlp/linear_0/b                  | f32[50]     | True        | CPU      |\n",
      "| gcn/gcn_2/mlp/linear_1/w                  | f32[50,50]  | True        | CPU      |\n",
      "| gcn/gcn_2/mlp/linear_1/b                  | f32[50]     | True        | CPU      |\n",
      "| gcn/gcn_3/layer_norm/offset               | f32[50]     | True        | CPU      |\n",
      "| gcn/gcn_3/layer_norm/scale                | f32[50]     | True        | CPU      |\n",
      "| gcn/gcn_3/mlp/linear_0/w                  | f32[120,50] | True        | CPU      |\n",
      "| gcn/gcn_3/mlp/linear_0/b                  | f32[50]     | True        | CPU      |\n",
      "| gcn/gcn_3/mlp/linear_1/w                  | f32[50,50]  | True        | CPU      |\n",
      "| gcn/gcn_3/mlp/linear_1/b                  | f32[50]     | True        | CPU      |\n",
      "| gcn/graph_independent/edge_model/linear/w | f32[5,20]   | True        | CPU      |\n",
      "| gcn/graph_independent/edge_model/linear/b | f32[20]     | True        | CPU      |\n",
      "| gcn/graph_independent/node_model/linear/w | f32[14,50]  | True        | CPU      |\n",
      "| gcn/graph_independent/node_model/linear/b | f32[50]     | True        | CPU      |\n",
      "| gcn/linear/w                              | f32[100,1]  | True        | CPU      |\n",
      "\n",
      "Params: 34270 trainable out of 34270\n"
     ]
    }
   ],
   "source": [
    "model = experiments.GNN(node_size = hp.node_size,\n",
    "               edge_size = hp.edge_size,\n",
    "               global_size = hp.global_size,\n",
    "               y_output_size = task.n_outputs,\n",
    "               block_type = gnn_models.BlockType(hp.block_type),\n",
    "               activation = task_act,\n",
    "               target_type = task.target_type,\n",
    "               n_layers = hp.n_layers)\n",
    "model(exp.x_train)\n",
    "gnn_models.print_model(model)"
   ]
  },
  {
   "cell_type": "markdown",
   "metadata": {
    "colab_type": "text",
    "id": "OyH67z9gaCZ_"
   },
   "source": [
    "# Train model on task\n",
    "\n"
   ]
  },
  {
   "cell_type": "markdown",
   "metadata": {
    "colab_type": "text",
    "id": "baX60p7WWXL-"
   },
   "source": [
    "## Training loop"
   ]
  },
  {
   "cell_type": "code",
   "execution_count": 14,
   "metadata": {
    "ExecuteTime": {
     "end_time": "2020-11-19T20:06:19.165556Z",
     "start_time": "2020-11-19T20:01:50.383747Z"
    },
    "colab": {},
    "colab_type": "code",
    "id": "BOxaREIYt1yp"
   },
   "outputs": [
    {
     "name": "stderr",
     "output_type": "stream",
     "text": [
      "\n",
      "  0%|          | 0/300 [00:10<?, ?it/s]\u001b[A\n",
      "\n",
      "  0%|          | 0/300 [00:03<?, ?it/s, train=0.4, test=0.338]\u001b[A\n",
      "  0%|          | 1/300 [00:03<18:41,  3.75s/it, train=0.4, test=0.338]\u001b[A\n",
      "  0%|          | 1/300 [00:04<18:41,  3.75s/it, train=0.312, test=0.329]\u001b[A\n",
      "  1%|          | 2/300 [00:04<09:01,  1.82s/it, train=0.312, test=0.329]\u001b[A\n",
      "  1%|          | 2/300 [00:04<09:01,  1.82s/it, train=0.308, test=0.326]\u001b[A\n",
      "  1%|          | 3/300 [00:04<05:50,  1.18s/it, train=0.308, test=0.326]\u001b[A\n",
      "  1%|          | 3/300 [00:05<05:50,  1.18s/it, train=0.304, test=0.32] \u001b[A\n",
      "  1%|▏         | 4/300 [00:05<04:19,  1.14it/s, train=0.304, test=0.32]\u001b[A\n",
      "  1%|▏         | 4/300 [00:05<04:19,  1.14it/s, train=0.299, test=0.312]\u001b[A\n",
      "  2%|▏         | 5/300 [00:05<03:30,  1.40it/s, train=0.299, test=0.312]\u001b[A\n",
      "  2%|▏         | 5/300 [00:05<03:30,  1.40it/s, train=0.291, test=0.301]\u001b[A\n",
      "  2%|▏         | 6/300 [00:05<03:00,  1.63it/s, train=0.291, test=0.301]\u001b[A\n",
      "  2%|▏         | 6/300 [00:06<03:00,  1.63it/s, train=0.279, test=0.29] \u001b[A\n",
      "  2%|▏         | 7/300 [00:06<02:44,  1.79it/s, train=0.279, test=0.29]\u001b[A\n",
      "  2%|▏         | 7/300 [00:06<02:44,  1.79it/s, train=0.265, test=0.269]\u001b[A\n",
      "  3%|▎         | 8/300 [00:06<02:35,  1.88it/s, train=0.265, test=0.269]\u001b[A\n",
      "  3%|▎         | 8/300 [00:07<02:35,  1.88it/s, train=0.247, test=0.259]\u001b[A\n",
      "  3%|▎         | 9/300 [00:07<02:25,  2.01it/s, train=0.247, test=0.259]\u001b[A\n",
      "  3%|▎         | 9/300 [00:07<02:25,  2.01it/s, train=0.239, test=0.236]\u001b[A\n",
      "  3%|▎         | 10/300 [00:07<02:17,  2.11it/s, train=0.239, test=0.236]\u001b[A\n",
      "  3%|▎         | 10/300 [00:08<02:17,  2.11it/s, train=0.222, test=0.222]\u001b[A\n",
      "  4%|▎         | 11/300 [00:08<02:12,  2.19it/s, train=0.222, test=0.222]\u001b[A\n",
      "  4%|▎         | 11/300 [00:08<02:12,  2.19it/s, train=0.201, test=0.207]\u001b[A\n",
      "  4%|▍         | 12/300 [00:08<02:09,  2.23it/s, train=0.201, test=0.207]\u001b[A\n",
      "  4%|▍         | 12/300 [00:08<02:09,  2.23it/s, train=0.185, test=0.187]\u001b[A\n",
      "  4%|▍         | 13/300 [00:08<02:11,  2.18it/s, train=0.185, test=0.187]\u001b[A\n",
      "  4%|▍         | 13/300 [00:09<02:11,  2.18it/s, train=0.173, test=0.18] \u001b[A\n",
      "  5%|▍         | 14/300 [00:09<02:10,  2.19it/s, train=0.173, test=0.18]\u001b[A\n",
      "  5%|▍         | 14/300 [00:09<02:10,  2.19it/s, train=0.159, test=0.164]\u001b[A\n",
      "  5%|▌         | 15/300 [00:09<02:07,  2.23it/s, train=0.159, test=0.164]\u001b[A\n",
      "  5%|▌         | 15/300 [00:10<02:07,  2.23it/s, train=0.151, test=0.159]\u001b[A\n",
      "  5%|▌         | 16/300 [00:10<02:05,  2.27it/s, train=0.151, test=0.159]\u001b[A\n",
      "  5%|▌         | 16/300 [00:10<02:05,  2.27it/s, train=0.145, test=0.155]\u001b[A\n",
      "  6%|▌         | 17/300 [00:10<02:04,  2.28it/s, train=0.145, test=0.155]\u001b[A\n",
      "  6%|▌         | 17/300 [00:11<02:04,  2.28it/s, train=0.142, test=0.153]\u001b[A\n",
      "  6%|▌         | 18/300 [00:11<02:02,  2.29it/s, train=0.142, test=0.153]\u001b[A\n",
      "  6%|▌         | 18/300 [00:11<02:02,  2.29it/s, train=0.139, test=0.148]\u001b[A\n",
      "  6%|▋         | 19/300 [00:11<02:02,  2.28it/s, train=0.139, test=0.148]\u001b[A\n",
      "  6%|▋         | 19/300 [00:12<02:02,  2.28it/s, train=0.135, test=0.146]\u001b[A\n",
      "  7%|▋         | 20/300 [00:12<02:04,  2.25it/s, train=0.135, test=0.146]\u001b[A\n",
      "  7%|▋         | 20/300 [00:12<02:04,  2.25it/s, train=0.136, test=0.147]\u001b[A\n",
      "  7%|▋         | 21/300 [00:12<02:05,  2.22it/s, train=0.136, test=0.147]\u001b[A\n",
      "  7%|▋         | 21/300 [00:12<02:05,  2.22it/s, train=0.135, test=0.143]\u001b[A\n",
      "  7%|▋         | 22/300 [00:12<02:03,  2.26it/s, train=0.135, test=0.143]\u001b[A\n",
      "  7%|▋         | 22/300 [00:13<02:03,  2.26it/s, train=0.132, test=0.141]\u001b[A\n",
      "  8%|▊         | 23/300 [00:13<02:01,  2.29it/s, train=0.132, test=0.141]\u001b[A\n",
      "  8%|▊         | 23/300 [00:13<02:01,  2.29it/s, train=0.13, test=0.143] \u001b[A\n",
      "  8%|▊         | 24/300 [00:13<02:00,  2.29it/s, train=0.13, test=0.143]\u001b[A\n",
      "  8%|▊         | 24/300 [00:14<02:00,  2.29it/s, train=0.128, test=0.138]\u001b[A\n",
      "  8%|▊         | 25/300 [00:14<01:58,  2.32it/s, train=0.128, test=0.138]\u001b[A\n",
      "  8%|▊         | 25/300 [00:14<01:58,  2.32it/s, train=0.126, test=0.137]\u001b[A\n",
      "  9%|▊         | 26/300 [00:14<01:58,  2.30it/s, train=0.126, test=0.137]\u001b[A\n",
      "  9%|▊         | 26/300 [00:15<01:58,  2.30it/s, train=0.124, test=0.138]\u001b[A\n",
      "  9%|▉         | 27/300 [00:15<01:56,  2.35it/s, train=0.124, test=0.138]\u001b[A\n",
      "  9%|▉         | 27/300 [00:15<01:56,  2.35it/s, train=0.124, test=0.141]\u001b[A\n",
      "  9%|▉         | 28/300 [00:15<01:57,  2.31it/s, train=0.124, test=0.141]\u001b[A\n",
      "  9%|▉         | 28/300 [00:15<01:57,  2.31it/s, train=0.124, test=0.134]\u001b[A\n",
      " 10%|▉         | 29/300 [00:15<01:55,  2.35it/s, train=0.124, test=0.134]\u001b[A\n",
      " 10%|▉         | 29/300 [00:16<01:55,  2.35it/s, train=0.12, test=0.133] \u001b[A\n",
      " 10%|█         | 30/300 [00:16<01:54,  2.37it/s, train=0.12, test=0.133]\u001b[A\n",
      " 10%|█         | 30/300 [00:16<01:54,  2.37it/s, train=0.12, test=0.132]\u001b[A\n",
      " 10%|█         | 31/300 [00:16<01:52,  2.39it/s, train=0.12, test=0.132]\u001b[A\n",
      " 10%|█         | 31/300 [00:17<01:52,  2.39it/s, train=0.118, test=0.131]\u001b[A\n",
      " 11%|█         | 32/300 [00:17<01:51,  2.41it/s, train=0.118, test=0.131]\u001b[A\n",
      " 11%|█         | 32/300 [00:17<01:51,  2.41it/s, train=0.116, test=0.131]\u001b[A\n",
      " 11%|█         | 33/300 [00:17<01:50,  2.41it/s, train=0.116, test=0.131]\u001b[A\n",
      " 11%|█         | 33/300 [00:18<01:50,  2.41it/s, train=0.116, test=0.131]\u001b[A\n",
      " 11%|█▏        | 34/300 [00:18<01:56,  2.28it/s, train=0.116, test=0.131]\u001b[A\n",
      " 11%|█▏        | 34/300 [00:18<01:56,  2.28it/s, train=0.114, test=0.128]\u001b[A\n",
      " 12%|█▏        | 35/300 [00:18<01:58,  2.23it/s, train=0.114, test=0.128]\u001b[A\n",
      " 12%|█▏        | 35/300 [00:18<01:58,  2.23it/s, train=0.112, test=0.131]\u001b[A\n",
      " 12%|█▏        | 36/300 [00:18<01:55,  2.28it/s, train=0.112, test=0.131]\u001b[A\n",
      " 12%|█▏        | 36/300 [00:19<01:55,  2.28it/s, train=0.113, test=0.127]\u001b[A\n",
      " 12%|█▏        | 37/300 [00:19<01:55,  2.27it/s, train=0.113, test=0.127]\u001b[A\n",
      " 12%|█▏        | 37/300 [00:19<01:55,  2.27it/s, train=0.111, test=0.128]\u001b[A\n",
      " 13%|█▎        | 38/300 [00:19<01:53,  2.31it/s, train=0.111, test=0.128]\u001b[A\n",
      " 13%|█▎        | 38/300 [00:20<01:53,  2.31it/s, train=0.11, test=0.127] \u001b[A\n",
      " 13%|█▎        | 39/300 [00:20<01:52,  2.32it/s, train=0.11, test=0.127]\u001b[A\n",
      " 13%|█▎        | 39/300 [00:20<01:52,  2.32it/s, train=0.108, test=0.124]\u001b[A\n",
      " 13%|█▎        | 40/300 [00:20<01:53,  2.29it/s, train=0.108, test=0.124]\u001b[A\n",
      " 13%|█▎        | 40/300 [00:21<01:53,  2.29it/s, train=0.107, test=0.124]\u001b[A\n",
      " 14%|█▎        | 41/300 [00:21<01:53,  2.29it/s, train=0.107, test=0.124]\u001b[A\n",
      " 14%|█▎        | 41/300 [00:21<01:53,  2.29it/s, train=0.106, test=0.124]\u001b[A\n",
      " 14%|█▍        | 42/300 [00:21<01:52,  2.29it/s, train=0.106, test=0.124]\u001b[A\n",
      " 14%|█▍        | 42/300 [00:22<01:52,  2.29it/s, train=0.105, test=0.123]\u001b[A\n",
      " 14%|█▍        | 43/300 [00:22<01:52,  2.28it/s, train=0.105, test=0.123]\u001b[A\n",
      " 14%|█▍        | 43/300 [00:22<01:52,  2.28it/s, train=0.104, test=0.124]\u001b[A\n",
      " 15%|█▍        | 44/300 [00:22<01:53,  2.25it/s, train=0.104, test=0.124]\u001b[A\n",
      " 15%|█▍        | 44/300 [00:22<01:53,  2.25it/s, train=0.105, test=0.125]\u001b[A\n",
      " 15%|█▌        | 45/300 [00:22<01:52,  2.26it/s, train=0.105, test=0.125]\u001b[A\n",
      " 15%|█▌        | 45/300 [00:23<01:52,  2.26it/s, train=0.103, test=0.119]\u001b[A\n",
      " 15%|█▌        | 46/300 [00:23<01:52,  2.25it/s, train=0.103, test=0.119]\u001b[A\n",
      " 15%|█▌        | 46/300 [00:23<01:52,  2.25it/s, train=0.102, test=0.119]\u001b[A\n",
      " 16%|█▌        | 47/300 [00:23<01:55,  2.19it/s, train=0.102, test=0.119]\u001b[A\n",
      " 16%|█▌        | 47/300 [00:24<01:55,  2.19it/s, train=0.0999, test=0.121]\u001b[A\n",
      " 16%|█▌        | 48/300 [00:24<01:55,  2.19it/s, train=0.0999, test=0.121]\u001b[A\n",
      " 16%|█▌        | 48/300 [00:24<01:55,  2.19it/s, train=0.0993, test=0.119]\u001b[A\n",
      " 16%|█▋        | 49/300 [00:24<01:53,  2.20it/s, train=0.0993, test=0.119]\u001b[A\n",
      " 16%|█▋        | 49/300 [00:25<01:53,  2.20it/s, train=0.0977, test=0.119]\u001b[A\n",
      " 17%|█▋        | 50/300 [00:25<01:52,  2.21it/s, train=0.0977, test=0.119]\u001b[A\n",
      " 17%|█▋        | 50/300 [00:25<01:52,  2.21it/s, train=0.0986, test=0.121]\u001b[A\n",
      " 17%|█▋        | 51/300 [00:25<01:55,  2.16it/s, train=0.0986, test=0.121]\u001b[A\n",
      " 17%|█▋        | 51/300 [00:26<01:55,  2.16it/s, train=0.0966, test=0.117]\u001b[A\n",
      " 17%|█▋        | 52/300 [00:26<01:58,  2.10it/s, train=0.0966, test=0.117]\u001b[A\n",
      " 17%|█▋        | 52/300 [00:26<01:58,  2.10it/s, train=0.0957, test=0.118]\u001b[A\n",
      " 18%|█▊        | 53/300 [00:26<01:57,  2.11it/s, train=0.0957, test=0.118]\u001b[A\n"
     ]
    },
    {
     "name": "stderr",
     "output_type": "stream",
     "text": [
      " 18%|█▊        | 53/300 [00:27<01:57,  2.11it/s, train=0.0958, test=0.116]\u001b[A\n",
      " 18%|█▊        | 54/300 [00:27<01:53,  2.16it/s, train=0.0958, test=0.116]\u001b[A\n",
      " 18%|█▊        | 54/300 [00:27<01:53,  2.16it/s, train=0.0933, test=0.112]\u001b[A\n",
      " 18%|█▊        | 55/300 [00:27<01:58,  2.06it/s, train=0.0933, test=0.112]\u001b[A\n",
      " 18%|█▊        | 55/300 [00:28<01:58,  2.06it/s, train=0.0924, test=0.114]\u001b[A\n",
      " 19%|█▊        | 56/300 [00:28<01:58,  2.06it/s, train=0.0924, test=0.114]\u001b[A\n",
      " 19%|█▊        | 56/300 [00:28<01:58,  2.06it/s, train=0.0931, test=0.112]\u001b[A\n",
      " 19%|█▉        | 57/300 [00:28<01:56,  2.08it/s, train=0.0931, test=0.112]\u001b[A\n",
      " 19%|█▉        | 57/300 [00:29<01:56,  2.08it/s, train=0.0923, test=0.109]\u001b[A\n",
      " 19%|█▉        | 58/300 [00:29<01:53,  2.13it/s, train=0.0923, test=0.109]\u001b[A\n",
      " 19%|█▉        | 58/300 [00:29<01:53,  2.13it/s, train=0.0928, test=0.116]\u001b[A\n",
      " 20%|█▉        | 59/300 [00:29<01:50,  2.19it/s, train=0.0928, test=0.116]\u001b[A\n",
      " 20%|█▉        | 59/300 [00:29<01:50,  2.19it/s, train=0.0921, test=0.11] \u001b[A\n",
      " 20%|██        | 60/300 [00:29<01:48,  2.21it/s, train=0.0921, test=0.11]\u001b[A\n",
      " 20%|██        | 60/300 [00:30<01:48,  2.21it/s, train=0.0905, test=0.11]\u001b[A\n",
      " 20%|██        | 61/300 [00:30<01:47,  2.22it/s, train=0.0905, test=0.11]\u001b[A\n",
      " 20%|██        | 61/300 [00:30<01:47,  2.22it/s, train=0.09, test=0.113] \u001b[A\n",
      " 21%|██        | 62/300 [00:30<01:47,  2.22it/s, train=0.09, test=0.113]\u001b[A\n",
      " 21%|██        | 62/300 [00:31<01:47,  2.22it/s, train=0.0905, test=0.11]\u001b[A\n",
      " 21%|██        | 63/300 [00:31<01:46,  2.23it/s, train=0.0905, test=0.11]\u001b[A\n",
      " 21%|██        | 63/300 [00:31<01:46,  2.23it/s, train=0.0877, test=0.108]\u001b[A\n",
      " 21%|██▏       | 64/300 [00:31<01:44,  2.26it/s, train=0.0877, test=0.108]\u001b[A\n",
      " 21%|██▏       | 64/300 [00:32<01:44,  2.26it/s, train=0.086, test=0.108] \u001b[A\n",
      " 22%|██▏       | 65/300 [00:32<01:41,  2.31it/s, train=0.086, test=0.108]\u001b[A\n",
      " 22%|██▏       | 65/300 [00:32<01:41,  2.31it/s, train=0.0861, test=0.11]\u001b[A\n",
      " 22%|██▏       | 66/300 [00:32<01:41,  2.31it/s, train=0.0861, test=0.11]\u001b[A\n",
      " 22%|██▏       | 66/300 [00:32<01:41,  2.31it/s, train=0.0865, test=0.106]\u001b[A\n",
      " 22%|██▏       | 67/300 [00:32<01:42,  2.28it/s, train=0.0865, test=0.106]\u001b[A\n",
      " 22%|██▏       | 67/300 [00:33<01:42,  2.28it/s, train=0.0844, test=0.108]\u001b[A\n",
      " 23%|██▎       | 68/300 [00:33<01:44,  2.23it/s, train=0.0844, test=0.108]\u001b[A\n",
      " 23%|██▎       | 68/300 [00:33<01:44,  2.23it/s, train=0.0839, test=0.11] \u001b[A\n",
      " 23%|██▎       | 69/300 [00:33<01:43,  2.23it/s, train=0.0839, test=0.11]\u001b[A\n",
      " 23%|██▎       | 69/300 [00:34<01:43,  2.23it/s, train=0.0972, test=0.126]\u001b[A\n",
      " 23%|██▎       | 70/300 [00:34<01:42,  2.25it/s, train=0.0972, test=0.126]\u001b[A\n",
      " 23%|██▎       | 70/300 [00:34<01:42,  2.25it/s, train=0.0953, test=0.109]\u001b[A\n",
      " 24%|██▎       | 71/300 [00:34<01:42,  2.24it/s, train=0.0953, test=0.109]\u001b[A\n",
      " 24%|██▎       | 71/300 [00:35<01:42,  2.24it/s, train=0.0872, test=0.107]\u001b[A\n",
      " 24%|██▍       | 72/300 [00:35<01:42,  2.21it/s, train=0.0872, test=0.107]\u001b[A\n",
      " 24%|██▍       | 72/300 [00:35<01:42,  2.21it/s, train=0.0863, test=0.103]\u001b[A\n",
      " 24%|██▍       | 73/300 [00:35<01:40,  2.27it/s, train=0.0863, test=0.103]\u001b[A\n",
      " 24%|██▍       | 73/300 [00:36<01:40,  2.27it/s, train=0.0855, test=0.104]\u001b[A\n",
      " 25%|██▍       | 74/300 [00:36<01:37,  2.31it/s, train=0.0855, test=0.104]\u001b[A\n",
      " 25%|██▍       | 74/300 [00:36<01:37,  2.31it/s, train=0.082, test=0.104] \u001b[A\n",
      " 25%|██▌       | 75/300 [00:36<01:36,  2.33it/s, train=0.082, test=0.104]\u001b[A\n",
      " 25%|██▌       | 75/300 [00:36<01:36,  2.33it/s, train=0.0808, test=0.102]\u001b[A\n",
      " 25%|██▌       | 76/300 [00:36<01:35,  2.34it/s, train=0.0808, test=0.102]\u001b[A\n",
      " 25%|██▌       | 76/300 [00:37<01:35,  2.34it/s, train=0.0791, test=0.105]\u001b[A\n",
      " 26%|██▌       | 77/300 [00:37<01:35,  2.34it/s, train=0.0791, test=0.105]\u001b[A\n",
      " 26%|██▌       | 77/300 [00:37<01:35,  2.34it/s, train=0.0793, test=0.102]\u001b[A\n",
      " 26%|██▌       | 78/300 [00:37<01:35,  2.33it/s, train=0.0793, test=0.102]\u001b[A\n",
      " 26%|██▌       | 78/300 [00:38<01:35,  2.33it/s, train=0.0793, test=0.102]\u001b[A\n",
      " 26%|██▋       | 79/300 [00:38<01:35,  2.31it/s, train=0.0793, test=0.102]\u001b[A\n",
      " 26%|██▋       | 79/300 [00:38<01:35,  2.31it/s, train=0.0785, test=0.102]\u001b[A\n",
      " 27%|██▋       | 80/300 [00:38<01:34,  2.33it/s, train=0.0785, test=0.102]\u001b[A\n",
      " 27%|██▋       | 80/300 [00:39<01:34,  2.33it/s, train=0.0792, test=0.106]\u001b[A\n",
      " 27%|██▋       | 81/300 [00:39<01:34,  2.32it/s, train=0.0792, test=0.106]\u001b[A\n",
      " 27%|██▋       | 81/300 [00:39<01:34,  2.32it/s, train=0.0805, test=0.107]\u001b[A\n",
      " 27%|██▋       | 82/300 [00:39<01:33,  2.32it/s, train=0.0805, test=0.107]\u001b[A\n",
      " 27%|██▋       | 82/300 [00:39<01:33,  2.32it/s, train=0.0779, test=0.103]\u001b[A\n",
      " 28%|██▊       | 83/300 [00:39<01:34,  2.31it/s, train=0.0779, test=0.103]\u001b[A\n",
      " 28%|██▊       | 83/300 [00:40<01:34,  2.31it/s, train=0.0765, test=0.101]\u001b[A\n",
      " 28%|██▊       | 84/300 [00:40<01:33,  2.30it/s, train=0.0765, test=0.101]\u001b[A\n",
      " 28%|██▊       | 84/300 [00:40<01:33,  2.30it/s, train=0.0741, test=0.102]\u001b[A\n",
      " 28%|██▊       | 85/300 [00:40<01:33,  2.31it/s, train=0.0741, test=0.102]\u001b[A\n",
      " 28%|██▊       | 85/300 [00:41<01:33,  2.31it/s, train=0.0761, test=0.102]\u001b[A\n",
      " 29%|██▊       | 86/300 [00:41<01:32,  2.30it/s, train=0.0761, test=0.102]\u001b[A\n",
      " 29%|██▊       | 86/300 [00:41<01:32,  2.30it/s, train=0.0778, test=0.1]  \u001b[A\n",
      " 29%|██▉       | 87/300 [00:41<01:31,  2.32it/s, train=0.0778, test=0.1]\u001b[A\n",
      " 29%|██▉       | 87/300 [00:42<01:31,  2.32it/s, train=0.074, test=0.101]\u001b[A\n",
      " 29%|██▉       | 88/300 [00:42<01:31,  2.32it/s, train=0.074, test=0.101]\u001b[A\n",
      " 29%|██▉       | 88/300 [00:42<01:31,  2.32it/s, train=0.0731, test=0.0985]\u001b[A\n",
      " 30%|██▉       | 89/300 [00:42<01:31,  2.30it/s, train=0.0731, test=0.0985]\u001b[A\n",
      " 30%|██▉       | 89/300 [00:43<01:31,  2.30it/s, train=0.0716, test=0.0991]\u001b[A\n",
      " 30%|███       | 90/300 [00:43<01:36,  2.19it/s, train=0.0716, test=0.0991]\u001b[A\n",
      " 30%|███       | 90/300 [00:43<01:36,  2.19it/s, train=0.0706, test=0.0997]\u001b[A\n",
      " 30%|███       | 91/300 [00:43<01:33,  2.23it/s, train=0.0706, test=0.0997]\u001b[A\n",
      " 30%|███       | 91/300 [00:43<01:33,  2.23it/s, train=0.072, test=0.103]  \u001b[A\n",
      " 31%|███       | 92/300 [00:43<01:31,  2.27it/s, train=0.072, test=0.103]\u001b[A\n",
      " 31%|███       | 92/300 [00:44<01:31,  2.27it/s, train=0.0735, test=0.1] \u001b[A\n",
      " 31%|███       | 93/300 [00:44<01:31,  2.27it/s, train=0.0735, test=0.1]\u001b[A\n",
      " 31%|███       | 93/300 [00:44<01:31,  2.27it/s, train=0.0696, test=0.102]\u001b[A\n",
      " 31%|███▏      | 94/300 [00:44<01:30,  2.27it/s, train=0.0696, test=0.102]\u001b[A\n",
      " 31%|███▏      | 94/300 [00:45<01:30,  2.27it/s, train=0.0687, test=0.0982]\u001b[A\n",
      " 32%|███▏      | 95/300 [00:45<01:31,  2.25it/s, train=0.0687, test=0.0982]\u001b[A\n",
      " 32%|███▏      | 95/300 [00:45<01:31,  2.25it/s, train=0.0672, test=0.0993]\u001b[A\n",
      " 32%|███▏      | 96/300 [00:45<01:28,  2.29it/s, train=0.0672, test=0.0993]\u001b[A\n",
      " 32%|███▏      | 96/300 [00:46<01:28,  2.29it/s, train=0.0701, test=0.0984]\u001b[A\n",
      " 32%|███▏      | 97/300 [00:46<01:27,  2.31it/s, train=0.0701, test=0.0984]\u001b[A\n",
      " 32%|███▏      | 97/300 [00:46<01:27,  2.31it/s, train=0.0696, test=0.0935]\u001b[A\n",
      " 33%|███▎      | 98/300 [00:46<01:30,  2.23it/s, train=0.0696, test=0.0935]\u001b[A\n",
      " 33%|███▎      | 98/300 [00:46<01:30,  2.23it/s, train=0.0684, test=0.13]  \u001b[A\n",
      " 33%|███▎      | 99/300 [00:46<01:29,  2.25it/s, train=0.0684, test=0.13]\u001b[A\n",
      " 33%|███▎      | 99/300 [00:47<01:29,  2.25it/s, train=0.101, test=0.119]\u001b[A\n",
      " 33%|███▎      | 100/300 [00:47<01:29,  2.24it/s, train=0.101, test=0.119]\u001b[A\n",
      " 33%|███▎      | 100/300 [00:47<01:29,  2.24it/s, train=0.0822, test=0.104]\u001b[A\n",
      " 34%|███▎      | 101/300 [00:47<01:27,  2.26it/s, train=0.0822, test=0.104]\u001b[A\n",
      " 34%|███▎      | 101/300 [00:48<01:27,  2.26it/s, train=0.0772, test=0.0962]\u001b[A\n",
      " 34%|███▍      | 102/300 [00:48<01:27,  2.27it/s, train=0.0772, test=0.0962]\u001b[A\n",
      " 34%|███▍      | 102/300 [00:48<01:27,  2.27it/s, train=0.0729, test=0.0979]\u001b[A\n",
      " 34%|███▍      | 103/300 [00:48<01:25,  2.30it/s, train=0.0729, test=0.0979]\u001b[A\n",
      " 34%|███▍      | 103/300 [00:49<01:25,  2.30it/s, train=0.0695, test=0.0959]\u001b[A\n",
      " 35%|███▍      | 104/300 [00:49<01:25,  2.30it/s, train=0.0695, test=0.0959]\u001b[A\n",
      " 35%|███▍      | 104/300 [00:49<01:25,  2.30it/s, train=0.0679, test=0.0969]\u001b[A\n",
      " 35%|███▌      | 105/300 [00:49<01:24,  2.31it/s, train=0.0679, test=0.0969]\u001b[A\n"
     ]
    },
    {
     "name": "stderr",
     "output_type": "stream",
     "text": [
      " 35%|███▌      | 105/300 [00:50<01:24,  2.31it/s, train=0.0664, test=0.098] \u001b[A\n",
      " 35%|███▌      | 106/300 [00:50<01:25,  2.27it/s, train=0.0664, test=0.098]\u001b[A\n",
      " 35%|███▌      | 106/300 [00:50<01:25,  2.27it/s, train=0.0677, test=0.0977]\u001b[A\n",
      " 36%|███▌      | 107/300 [00:50<01:28,  2.19it/s, train=0.0677, test=0.0977]\u001b[A\n",
      " 36%|███▌      | 107/300 [00:51<01:28,  2.19it/s, train=0.065, test=0.096]  \u001b[A\n",
      " 36%|███▌      | 108/300 [00:51<01:29,  2.14it/s, train=0.065, test=0.096]\u001b[A\n",
      " 36%|███▌      | 108/300 [00:51<01:29,  2.14it/s, train=0.0639, test=0.0975]\u001b[A\n",
      " 36%|███▋      | 109/300 [00:51<01:28,  2.15it/s, train=0.0639, test=0.0975]\u001b[A\n",
      " 36%|███▋      | 109/300 [00:51<01:28,  2.15it/s, train=0.0635, test=0.0965]\u001b[A\n",
      " 37%|███▋      | 110/300 [00:51<01:29,  2.13it/s, train=0.0635, test=0.0965]\u001b[A\n",
      " 37%|███▋      | 110/300 [00:52<01:29,  2.13it/s, train=0.0633, test=0.092] \u001b[A\n",
      " 37%|███▋      | 111/300 [00:52<01:27,  2.16it/s, train=0.0633, test=0.092]\u001b[A\n",
      " 37%|███▋      | 111/300 [00:52<01:27,  2.16it/s, train=0.0615, test=0.094]\u001b[A\n",
      " 37%|███▋      | 112/300 [00:52<01:24,  2.23it/s, train=0.0615, test=0.094]\u001b[A\n",
      " 37%|███▋      | 112/300 [00:53<01:24,  2.23it/s, train=0.0603, test=0.0958]\u001b[A\n",
      " 38%|███▊      | 113/300 [00:53<01:21,  2.29it/s, train=0.0603, test=0.0958]\u001b[A\n",
      " 38%|███▊      | 113/300 [00:53<01:21,  2.29it/s, train=0.0619, test=0.1]   \u001b[A\n",
      " 38%|███▊      | 114/300 [00:53<01:22,  2.24it/s, train=0.0619, test=0.1]\u001b[A\n",
      " 38%|███▊      | 114/300 [00:54<01:22,  2.24it/s, train=0.0632, test=0.0956]\u001b[A\n",
      " 38%|███▊      | 115/300 [00:54<01:23,  2.20it/s, train=0.0632, test=0.0956]\u001b[A\n",
      " 38%|███▊      | 115/300 [00:54<01:23,  2.20it/s, train=0.0605, test=0.0944]\u001b[A\n",
      " 39%|███▊      | 116/300 [00:54<01:24,  2.17it/s, train=0.0605, test=0.0944]\u001b[A\n",
      " 39%|███▊      | 116/300 [00:55<01:24,  2.17it/s, train=0.059, test=0.0946] \u001b[A\n",
      " 39%|███▉      | 117/300 [00:55<01:25,  2.14it/s, train=0.059, test=0.0946]\u001b[A\n",
      " 39%|███▉      | 117/300 [00:55<01:25,  2.14it/s, train=0.0591, test=0.0934]\u001b[A\n",
      " 39%|███▉      | 118/300 [00:55<01:25,  2.13it/s, train=0.0591, test=0.0934]\u001b[A\n",
      " 39%|███▉      | 118/300 [00:56<01:25,  2.13it/s, train=0.0595, test=0.101] \u001b[A\n",
      " 40%|███▉      | 119/300 [00:56<01:27,  2.07it/s, train=0.0595, test=0.101]\u001b[A\n",
      " 40%|███▉      | 119/300 [00:56<01:27,  2.07it/s, train=0.058, test=0.0918]\u001b[A\n",
      " 40%|████      | 120/300 [00:56<01:27,  2.05it/s, train=0.058, test=0.0918]\u001b[A\n",
      " 40%|████      | 120/300 [00:57<01:27,  2.05it/s, train=0.058, test=0.0908]\u001b[A\n",
      " 40%|████      | 121/300 [00:57<01:24,  2.13it/s, train=0.058, test=0.0908]\u001b[A\n",
      " 40%|████      | 121/300 [00:57<01:24,  2.13it/s, train=0.0573, test=0.0917]\u001b[A\n",
      " 41%|████      | 122/300 [00:57<01:21,  2.20it/s, train=0.0573, test=0.0917]\u001b[A\n",
      " 41%|████      | 122/300 [00:57<01:21,  2.20it/s, train=0.057, test=0.0935] \u001b[A\n",
      " 41%|████      | 123/300 [00:57<01:18,  2.25it/s, train=0.057, test=0.0935]\u001b[A\n",
      " 41%|████      | 123/300 [00:58<01:18,  2.25it/s, train=0.0597, test=0.0916]\u001b[A\n",
      " 41%|████▏     | 124/300 [00:58<01:16,  2.29it/s, train=0.0597, test=0.0916]\u001b[A\n",
      " 41%|████▏     | 124/300 [00:58<01:16,  2.29it/s, train=0.0579, test=0.0923]\u001b[A\n",
      " 42%|████▏     | 125/300 [00:58<01:15,  2.33it/s, train=0.0579, test=0.0923]\u001b[A\n",
      " 42%|████▏     | 125/300 [00:59<01:15,  2.33it/s, train=0.0548, test=0.0904]\u001b[A\n",
      " 42%|████▏     | 126/300 [00:59<01:13,  2.36it/s, train=0.0548, test=0.0904]\u001b[A\n",
      " 42%|████▏     | 126/300 [00:59<01:13,  2.36it/s, train=0.0544, test=0.0952]\u001b[A\n",
      " 42%|████▏     | 127/300 [00:59<01:12,  2.38it/s, train=0.0544, test=0.0952]\u001b[A\n",
      " 42%|████▏     | 127/300 [00:59<01:12,  2.38it/s, train=0.056, test=0.0911] \u001b[A\n",
      " 43%|████▎     | 128/300 [00:59<01:11,  2.39it/s, train=0.056, test=0.0911]\u001b[A\n",
      " 43%|████▎     | 128/300 [01:00<01:11,  2.39it/s, train=0.0553, test=0.0886]\u001b[A\n",
      " 43%|████▎     | 129/300 [01:00<01:11,  2.40it/s, train=0.0553, test=0.0886]\u001b[A\n",
      " 43%|████▎     | 129/300 [01:00<01:11,  2.40it/s, train=0.0552, test=0.0937]\u001b[A\n",
      " 43%|████▎     | 130/300 [01:00<01:10,  2.40it/s, train=0.0552, test=0.0937]\u001b[A\n",
      " 43%|████▎     | 130/300 [01:01<01:10,  2.40it/s, train=0.0564, test=0.0913]\u001b[A\n",
      " 44%|████▎     | 131/300 [01:01<01:12,  2.33it/s, train=0.0564, test=0.0913]\u001b[A\n",
      " 44%|████▎     | 131/300 [01:01<01:12,  2.33it/s, train=0.0524, test=0.0975]\u001b[A\n",
      " 44%|████▍     | 132/300 [01:01<01:13,  2.28it/s, train=0.0524, test=0.0975]\u001b[A\n",
      " 44%|████▍     | 132/300 [01:02<01:13,  2.28it/s, train=0.0551, test=0.0933]\u001b[A\n",
      " 44%|████▍     | 133/300 [01:02<01:12,  2.30it/s, train=0.0551, test=0.0933]\u001b[A\n",
      " 44%|████▍     | 133/300 [01:02<01:12,  2.30it/s, train=0.0549, test=0.0956]\u001b[A\n",
      " 45%|████▍     | 134/300 [01:02<01:11,  2.34it/s, train=0.0549, test=0.0956]\u001b[A\n",
      " 45%|████▍     | 134/300 [01:02<01:11,  2.34it/s, train=0.0529, test=0.0908]\u001b[A\n",
      " 45%|████▌     | 135/300 [01:02<01:09,  2.37it/s, train=0.0529, test=0.0908]\u001b[A\n",
      " 45%|████▌     | 135/300 [01:03<01:09,  2.37it/s, train=0.0508, test=0.0964]\u001b[A\n",
      " 45%|████▌     | 136/300 [01:03<01:08,  2.38it/s, train=0.0508, test=0.0964]\u001b[A\n",
      " 45%|████▌     | 136/300 [01:03<01:08,  2.38it/s, train=0.0515, test=0.0943]\u001b[A\n",
      " 46%|████▌     | 137/300 [01:03<01:10,  2.32it/s, train=0.0515, test=0.0943]\u001b[A\n",
      " 46%|████▌     | 137/300 [01:04<01:10,  2.32it/s, train=0.0528, test=0.0994]\u001b[A\n",
      " 46%|████▌     | 138/300 [01:04<01:11,  2.26it/s, train=0.0528, test=0.0994]\u001b[A\n",
      " 46%|████▌     | 138/300 [01:04<01:11,  2.26it/s, train=0.0509, test=0.0997]\u001b[A\n",
      " 46%|████▋     | 139/300 [01:04<01:13,  2.20it/s, train=0.0509, test=0.0997]\u001b[A\n",
      " 46%|████▋     | 139/300 [01:05<01:13,  2.20it/s, train=0.0508, test=0.091] \u001b[A\n",
      " 47%|████▋     | 140/300 [01:05<01:13,  2.16it/s, train=0.0508, test=0.091]\u001b[A\n",
      " 47%|████▋     | 140/300 [01:05<01:13,  2.16it/s, train=0.0496, test=0.0936]\u001b[A\n",
      " 47%|████▋     | 141/300 [01:05<01:14,  2.12it/s, train=0.0496, test=0.0936]\u001b[A\n",
      " 47%|████▋     | 141/300 [01:06<01:14,  2.12it/s, train=0.0505, test=0.0928]\u001b[A\n",
      " 47%|████▋     | 142/300 [01:06<01:12,  2.17it/s, train=0.0505, test=0.0928]\u001b[A\n",
      " 47%|████▋     | 142/300 [01:06<01:12,  2.17it/s, train=0.0501, test=0.0915]\u001b[A\n",
      " 48%|████▊     | 143/300 [01:06<01:12,  2.17it/s, train=0.0501, test=0.0915]\u001b[A\n",
      " 48%|████▊     | 143/300 [01:07<01:12,  2.17it/s, train=0.0487, test=0.0897]\u001b[A\n",
      " 48%|████▊     | 144/300 [01:07<01:10,  2.20it/s, train=0.0487, test=0.0897]\u001b[A\n",
      " 48%|████▊     | 144/300 [01:07<01:10,  2.20it/s, train=0.048, test=0.0969] \u001b[A\n",
      " 48%|████▊     | 145/300 [01:07<01:09,  2.23it/s, train=0.048, test=0.0969]\u001b[A\n",
      " 48%|████▊     | 145/300 [01:07<01:09,  2.23it/s, train=0.0485, test=0.093]\u001b[A\n",
      " 49%|████▊     | 146/300 [01:07<01:08,  2.26it/s, train=0.0485, test=0.093]\u001b[A\n",
      " 49%|████▊     | 146/300 [01:08<01:08,  2.26it/s, train=0.0495, test=0.0898]\u001b[A\n",
      " 49%|████▉     | 147/300 [01:08<01:07,  2.28it/s, train=0.0495, test=0.0898]\u001b[A\n",
      " 49%|████▉     | 147/300 [01:08<01:07,  2.28it/s, train=0.0498, test=0.0931]\u001b[A\n",
      " 49%|████▉     | 148/300 [01:08<01:06,  2.30it/s, train=0.0498, test=0.0931]\u001b[A\n",
      " 49%|████▉     | 148/300 [01:09<01:06,  2.30it/s, train=0.0506, test=0.0922]\u001b[A\n",
      " 50%|████▉     | 149/300 [01:09<01:05,  2.30it/s, train=0.0506, test=0.0922]\u001b[A\n",
      " 50%|████▉     | 149/300 [01:09<01:05,  2.30it/s, train=0.0482, test=0.0947]\u001b[A\n",
      " 50%|█████     | 150/300 [01:09<01:05,  2.31it/s, train=0.0482, test=0.0947]\u001b[A\n",
      " 50%|█████     | 150/300 [01:10<01:05,  2.31it/s, train=0.0463, test=0.0901]\u001b[A\n",
      " 50%|█████     | 151/300 [01:10<01:05,  2.28it/s, train=0.0463, test=0.0901]\u001b[A\n",
      " 50%|█████     | 151/300 [01:10<01:05,  2.28it/s, train=0.0475, test=0.0918]\u001b[A\n",
      " 51%|█████     | 152/300 [01:10<01:04,  2.29it/s, train=0.0475, test=0.0918]\u001b[A\n",
      " 51%|█████     | 152/300 [01:11<01:04,  2.29it/s, train=0.0457, test=0.0922]\u001b[A\n",
      " 51%|█████     | 153/300 [01:11<01:04,  2.29it/s, train=0.0457, test=0.0922]\u001b[A\n",
      " 51%|█████     | 153/300 [01:11<01:04,  2.29it/s, train=0.0475, test=0.0919]\u001b[A\n",
      " 51%|█████▏    | 154/300 [01:11<01:03,  2.31it/s, train=0.0475, test=0.0919]\u001b[A\n",
      " 51%|█████▏    | 154/300 [01:11<01:03,  2.31it/s, train=0.0458, test=0.091] \u001b[A\n",
      " 52%|█████▏    | 155/300 [01:11<01:02,  2.32it/s, train=0.0458, test=0.091]\u001b[A\n",
      " 52%|█████▏    | 155/300 [01:12<01:02,  2.32it/s, train=0.0441, test=0.0909]\u001b[A\n",
      " 52%|█████▏    | 156/300 [01:12<01:02,  2.32it/s, train=0.0441, test=0.0909]\u001b[A\n"
     ]
    },
    {
     "name": "stderr",
     "output_type": "stream",
     "text": [
      " 52%|█████▏    | 156/300 [01:12<01:02,  2.32it/s, train=0.0449, test=0.0878]\u001b[A\n",
      " 52%|█████▏    | 157/300 [01:12<01:02,  2.30it/s, train=0.0449, test=0.0878]\u001b[A\n",
      " 52%|█████▏    | 157/300 [01:13<01:02,  2.30it/s, train=0.0453, test=0.0933]\u001b[A\n",
      " 53%|█████▎    | 158/300 [01:13<01:01,  2.31it/s, train=0.0453, test=0.0933]\u001b[A\n",
      " 53%|█████▎    | 158/300 [01:13<01:01,  2.31it/s, train=0.0452, test=0.0887]\u001b[A\n",
      " 53%|█████▎    | 159/300 [01:13<01:02,  2.27it/s, train=0.0452, test=0.0887]\u001b[A\n",
      " 53%|█████▎    | 159/300 [01:14<01:02,  2.27it/s, train=0.0444, test=0.0874]\u001b[A\n",
      " 53%|█████▎    | 160/300 [01:14<01:01,  2.26it/s, train=0.0444, test=0.0874]\u001b[A\n",
      " 53%|█████▎    | 160/300 [01:14<01:01,  2.26it/s, train=0.0441, test=0.0913]\u001b[A\n",
      " 54%|█████▎    | 161/300 [01:14<01:01,  2.27it/s, train=0.0441, test=0.0913]\u001b[A\n",
      " 54%|█████▎    | 161/300 [01:14<01:01,  2.27it/s, train=0.0453, test=0.0908]\u001b[A\n",
      " 54%|█████▍    | 162/300 [01:14<01:01,  2.24it/s, train=0.0453, test=0.0908]\u001b[A\n",
      " 54%|█████▍    | 162/300 [01:15<01:01,  2.24it/s, train=0.0466, test=0.0886]\u001b[A\n",
      " 54%|█████▍    | 163/300 [01:15<01:01,  2.24it/s, train=0.0466, test=0.0886]\u001b[A\n",
      " 54%|█████▍    | 163/300 [01:15<01:01,  2.24it/s, train=0.0468, test=0.0982]\u001b[A\n",
      " 55%|█████▍    | 164/300 [01:15<01:01,  2.22it/s, train=0.0468, test=0.0982]\u001b[A\n",
      " 55%|█████▍    | 164/300 [01:16<01:01,  2.22it/s, train=0.0478, test=0.0886]\u001b[A\n",
      " 55%|█████▌    | 165/300 [01:16<01:00,  2.22it/s, train=0.0478, test=0.0886]\u001b[A\n",
      " 55%|█████▌    | 165/300 [01:16<01:00,  2.22it/s, train=0.0476, test=0.0919]\u001b[A\n",
      " 55%|█████▌    | 166/300 [01:16<01:00,  2.23it/s, train=0.0476, test=0.0919]\u001b[A\n",
      " 55%|█████▌    | 166/300 [01:17<01:00,  2.23it/s, train=0.0458, test=0.088] \u001b[A\n",
      " 56%|█████▌    | 167/300 [01:17<00:58,  2.26it/s, train=0.0458, test=0.088]\u001b[A\n",
      " 56%|█████▌    | 167/300 [01:17<00:58,  2.26it/s, train=0.0461, test=0.0941]\u001b[A\n",
      " 56%|█████▌    | 168/300 [01:17<00:58,  2.27it/s, train=0.0461, test=0.0941]\u001b[A\n",
      " 56%|█████▌    | 168/300 [01:18<00:58,  2.27it/s, train=0.0442, test=0.0933]\u001b[A\n",
      " 56%|█████▋    | 169/300 [01:18<00:57,  2.28it/s, train=0.0442, test=0.0933]\u001b[A\n",
      " 56%|█████▋    | 169/300 [01:18<00:57,  2.28it/s, train=0.0432, test=0.0896]\u001b[A\n",
      " 57%|█████▋    | 170/300 [01:18<00:58,  2.23it/s, train=0.0432, test=0.0896]\u001b[A\n",
      " 57%|█████▋    | 170/300 [01:18<00:58,  2.23it/s, train=0.0423, test=0.0891]\u001b[A\n",
      " 57%|█████▋    | 171/300 [01:18<00:57,  2.23it/s, train=0.0423, test=0.0891]\u001b[A\n",
      " 57%|█████▋    | 171/300 [01:19<00:57,  2.23it/s, train=0.0414, test=0.091] \u001b[A\n",
      " 57%|█████▋    | 172/300 [01:19<00:57,  2.23it/s, train=0.0414, test=0.091]\u001b[A\n",
      " 57%|█████▋    | 172/300 [01:19<00:57,  2.23it/s, train=0.0411, test=0.0878]\u001b[A\n",
      " 58%|█████▊    | 173/300 [01:19<00:56,  2.25it/s, train=0.0411, test=0.0878]\u001b[A\n",
      " 58%|█████▊    | 173/300 [01:20<00:56,  2.25it/s, train=0.0411, test=0.0872]\u001b[A\n",
      " 58%|█████▊    | 174/300 [01:20<00:55,  2.25it/s, train=0.0411, test=0.0872]\u001b[A\n",
      " 58%|█████▊    | 174/300 [01:20<00:55,  2.25it/s, train=0.0408, test=0.0834]\u001b[A\n",
      " 58%|█████▊    | 175/300 [01:20<00:55,  2.27it/s, train=0.0408, test=0.0834]\u001b[A\n",
      " 58%|█████▊    | 175/300 [01:21<00:55,  2.27it/s, train=0.0398, test=0.0862]\u001b[A\n",
      " 59%|█████▊    | 176/300 [01:21<00:54,  2.27it/s, train=0.0398, test=0.0862]\u001b[A\n",
      " 59%|█████▊    | 176/300 [01:21<00:54,  2.27it/s, train=0.0414, test=0.0819]\u001b[A\n",
      " 59%|█████▉    | 177/300 [01:21<00:53,  2.30it/s, train=0.0414, test=0.0819]\u001b[A\n",
      " 59%|█████▉    | 177/300 [01:22<00:53,  2.30it/s, train=0.0418, test=0.087] \u001b[A\n",
      " 59%|█████▉    | 178/300 [01:22<00:53,  2.27it/s, train=0.0418, test=0.087]\u001b[A\n",
      " 59%|█████▉    | 178/300 [01:22<00:53,  2.27it/s, train=0.0425, test=0.087]\u001b[A\n",
      " 60%|█████▉    | 179/300 [01:22<00:53,  2.28it/s, train=0.0425, test=0.087]\u001b[A\n",
      " 60%|█████▉    | 179/300 [01:22<00:53,  2.28it/s, train=0.0397, test=0.0871]\u001b[A\n",
      " 60%|██████    | 180/300 [01:22<00:52,  2.28it/s, train=0.0397, test=0.0871]\u001b[A\n",
      " 60%|██████    | 180/300 [01:23<00:52,  2.28it/s, train=0.039, test=0.0869] \u001b[A\n",
      " 60%|██████    | 181/300 [01:23<00:51,  2.30it/s, train=0.039, test=0.0869]\u001b[A\n",
      " 60%|██████    | 181/300 [01:23<00:51,  2.30it/s, train=0.0377, test=0.0875]\u001b[A\n",
      " 61%|██████    | 182/300 [01:23<00:50,  2.33it/s, train=0.0377, test=0.0875]\u001b[A\n",
      " 61%|██████    | 182/300 [01:24<00:50,  2.33it/s, train=0.039, test=0.0898] \u001b[A\n",
      " 61%|██████    | 183/300 [01:24<00:50,  2.33it/s, train=0.039, test=0.0898]\u001b[A\n",
      " 61%|██████    | 183/300 [01:24<00:50,  2.33it/s, train=0.0404, test=0.0856]\u001b[A\n",
      " 61%|██████▏   | 184/300 [01:24<00:50,  2.32it/s, train=0.0404, test=0.0856]\u001b[A\n",
      " 61%|██████▏   | 184/300 [01:25<00:50,  2.32it/s, train=0.0409, test=0.0916]\u001b[A\n",
      " 62%|██████▏   | 185/300 [01:25<00:52,  2.21it/s, train=0.0409, test=0.0916]\u001b[A\n",
      " 62%|██████▏   | 185/300 [01:25<00:52,  2.21it/s, train=0.0413, test=0.0903]\u001b[A\n",
      " 62%|██████▏   | 186/300 [01:25<00:51,  2.20it/s, train=0.0413, test=0.0903]\u001b[A\n",
      " 62%|██████▏   | 186/300 [01:26<00:51,  2.20it/s, train=0.0403, test=0.0848]\u001b[A\n",
      " 62%|██████▏   | 187/300 [01:26<00:50,  2.24it/s, train=0.0403, test=0.0848]\u001b[A\n",
      " 62%|██████▏   | 187/300 [01:26<00:50,  2.24it/s, train=0.0393, test=0.0912]\u001b[A\n",
      " 63%|██████▎   | 188/300 [01:26<00:50,  2.21it/s, train=0.0393, test=0.0912]\u001b[A\n",
      " 63%|██████▎   | 188/300 [01:26<00:50,  2.21it/s, train=0.0371, test=0.0828]\u001b[A\n",
      " 63%|██████▎   | 189/300 [01:26<00:49,  2.24it/s, train=0.0371, test=0.0828]\u001b[A\n",
      " 63%|██████▎   | 189/300 [01:27<00:49,  2.24it/s, train=0.0368, test=0.0874]\u001b[A\n",
      " 63%|██████▎   | 190/300 [01:27<00:48,  2.26it/s, train=0.0368, test=0.0874]\u001b[A\n",
      " 63%|██████▎   | 190/300 [01:27<00:48,  2.26it/s, train=0.0363, test=0.0855]\u001b[A\n",
      " 64%|██████▎   | 191/300 [01:27<00:48,  2.27it/s, train=0.0363, test=0.0855]\u001b[A\n",
      " 64%|██████▎   | 191/300 [01:28<00:48,  2.27it/s, train=0.0362, test=0.0864]\u001b[A\n",
      " 64%|██████▍   | 192/300 [01:28<00:47,  2.28it/s, train=0.0362, test=0.0864]\u001b[A\n",
      " 64%|██████▍   | 192/300 [01:28<00:47,  2.28it/s, train=0.0357, test=0.0872]\u001b[A\n",
      " 64%|██████▍   | 193/300 [01:28<00:46,  2.31it/s, train=0.0357, test=0.0872]\u001b[A\n",
      " 64%|██████▍   | 193/300 [01:29<00:46,  2.31it/s, train=0.0372, test=0.0967]\u001b[A\n",
      " 65%|██████▍   | 194/300 [01:29<00:45,  2.30it/s, train=0.0372, test=0.0967]\u001b[A\n",
      " 65%|██████▍   | 194/300 [01:29<00:45,  2.30it/s, train=0.0392, test=0.0902]\u001b[A\n",
      " 65%|██████▌   | 195/300 [01:29<00:46,  2.26it/s, train=0.0392, test=0.0902]\u001b[A\n",
      " 65%|██████▌   | 195/300 [01:30<00:46,  2.26it/s, train=0.0355, test=0.0861]\u001b[A\n",
      " 65%|██████▌   | 196/300 [01:30<00:46,  2.24it/s, train=0.0355, test=0.0861]\u001b[A\n",
      " 65%|██████▌   | 196/300 [01:30<00:46,  2.24it/s, train=0.0343, test=0.0816]\u001b[A\n",
      " 66%|██████▌   | 197/300 [01:30<00:46,  2.22it/s, train=0.0343, test=0.0816]\u001b[A\n",
      " 66%|██████▌   | 197/300 [01:30<00:46,  2.22it/s, train=0.033, test=0.0859] \u001b[A\n",
      " 66%|██████▌   | 198/300 [01:30<00:48,  2.12it/s, train=0.033, test=0.0859]\u001b[A\n",
      " 66%|██████▌   | 198/300 [01:31<00:48,  2.12it/s, train=0.0325, test=0.0843]\u001b[A\n",
      " 66%|██████▋   | 199/300 [01:31<00:49,  2.04it/s, train=0.0325, test=0.0843]\u001b[A\n",
      " 66%|██████▋   | 199/300 [01:31<00:49,  2.04it/s, train=0.0321, test=0.0834]\u001b[A\n",
      " 67%|██████▋   | 200/300 [01:31<00:47,  2.09it/s, train=0.0321, test=0.0834]\u001b[A\n",
      " 67%|██████▋   | 200/300 [01:32<00:47,  2.09it/s, train=0.0332, test=0.0822]\u001b[A\n",
      " 67%|██████▋   | 201/300 [01:32<00:46,  2.14it/s, train=0.0332, test=0.0822]\u001b[A\n",
      " 67%|██████▋   | 201/300 [01:32<00:46,  2.14it/s, train=0.0336, test=0.0877]\u001b[A\n",
      " 67%|██████▋   | 202/300 [01:32<00:44,  2.18it/s, train=0.0336, test=0.0877]\u001b[A\n",
      " 67%|██████▋   | 202/300 [01:33<00:44,  2.18it/s, train=0.0373, test=0.0883]\u001b[A\n",
      " 68%|██████▊   | 203/300 [01:33<00:44,  2.20it/s, train=0.0373, test=0.0883]\u001b[A\n",
      " 68%|██████▊   | 203/300 [01:33<00:44,  2.20it/s, train=0.0362, test=0.0933]\u001b[A\n",
      " 68%|██████▊   | 204/300 [01:33<00:43,  2.21it/s, train=0.0362, test=0.0933]\u001b[A\n",
      " 68%|██████▊   | 204/300 [01:34<00:43,  2.21it/s, train=0.0346, test=0.0806]\u001b[A\n",
      " 68%|██████▊   | 205/300 [01:34<00:42,  2.21it/s, train=0.0346, test=0.0806]\u001b[A\n",
      " 68%|██████▊   | 205/300 [01:34<00:42,  2.21it/s, train=0.0345, test=0.0835]\u001b[A\n",
      " 69%|██████▊   | 206/300 [01:34<00:41,  2.24it/s, train=0.0345, test=0.0835]\u001b[A\n",
      " 69%|██████▊   | 206/300 [01:35<00:41,  2.24it/s, train=0.0333, test=0.0928]\u001b[A\n",
      " 69%|██████▉   | 207/300 [01:35<00:41,  2.27it/s, train=0.0333, test=0.0928]\u001b[A\n"
     ]
    },
    {
     "name": "stderr",
     "output_type": "stream",
     "text": [
      " 69%|██████▉   | 207/300 [01:35<00:41,  2.27it/s, train=0.0362, test=0.0813]\u001b[A\n",
      " 69%|██████▉   | 208/300 [01:35<00:40,  2.27it/s, train=0.0362, test=0.0813]\u001b[A\n",
      " 69%|██████▉   | 208/300 [01:35<00:40,  2.27it/s, train=0.0369, test=0.08]  \u001b[A\n",
      " 70%|██████▉   | 209/300 [01:35<00:40,  2.26it/s, train=0.0369, test=0.08]\u001b[A\n",
      " 70%|██████▉   | 209/300 [01:36<00:40,  2.26it/s, train=0.0369, test=0.0851]\u001b[A\n",
      " 70%|███████   | 210/300 [01:36<00:40,  2.25it/s, train=0.0369, test=0.0851]\u001b[A\n",
      " 70%|███████   | 210/300 [01:36<00:40,  2.25it/s, train=0.0331, test=0.0825]\u001b[A\n",
      " 70%|███████   | 211/300 [01:36<00:39,  2.26it/s, train=0.0331, test=0.0825]\u001b[A\n",
      " 70%|███████   | 211/300 [01:37<00:39,  2.26it/s, train=0.0321, test=0.083] \u001b[A\n",
      " 71%|███████   | 212/300 [01:37<00:38,  2.27it/s, train=0.0321, test=0.083]\u001b[A\n",
      " 71%|███████   | 212/300 [01:37<00:38,  2.27it/s, train=0.0309, test=0.0803]\u001b[A\n",
      " 71%|███████   | 213/300 [01:37<00:38,  2.28it/s, train=0.0309, test=0.0803]\u001b[A\n",
      " 71%|███████   | 213/300 [01:38<00:38,  2.28it/s, train=0.0301, test=0.0839]\u001b[A\n",
      " 71%|███████▏  | 214/300 [01:38<00:37,  2.27it/s, train=0.0301, test=0.0839]\u001b[A\n",
      " 71%|███████▏  | 214/300 [01:38<00:37,  2.27it/s, train=0.0291, test=0.085] \u001b[A\n",
      " 72%|███████▏  | 215/300 [01:38<00:37,  2.26it/s, train=0.0291, test=0.085]\u001b[A\n",
      " 72%|███████▏  | 215/300 [01:39<00:37,  2.26it/s, train=0.0285, test=0.0823]\u001b[A\n",
      " 72%|███████▏  | 216/300 [01:39<00:37,  2.27it/s, train=0.0285, test=0.0823]\u001b[A\n",
      " 72%|███████▏  | 216/300 [01:39<00:37,  2.27it/s, train=0.0285, test=0.0842]\u001b[A\n",
      " 72%|███████▏  | 217/300 [01:39<00:36,  2.27it/s, train=0.0285, test=0.0842]\u001b[A\n",
      " 72%|███████▏  | 217/300 [01:39<00:36,  2.27it/s, train=0.0283, test=0.0828]\u001b[A\n",
      " 73%|███████▎  | 218/300 [01:39<00:36,  2.27it/s, train=0.0283, test=0.0828]\u001b[A\n",
      " 73%|███████▎  | 218/300 [01:40<00:36,  2.27it/s, train=0.0287, test=0.084] \u001b[A\n",
      " 73%|███████▎  | 219/300 [01:40<00:36,  2.23it/s, train=0.0287, test=0.084]\u001b[A\n",
      " 73%|███████▎  | 219/300 [01:40<00:36,  2.23it/s, train=0.0295, test=0.0821]\u001b[A\n",
      " 73%|███████▎  | 220/300 [01:40<00:35,  2.24it/s, train=0.0295, test=0.0821]\u001b[A\n",
      " 73%|███████▎  | 220/300 [01:41<00:35,  2.24it/s, train=0.0278, test=0.0824]\u001b[A\n",
      " 74%|███████▎  | 221/300 [01:41<00:35,  2.24it/s, train=0.0278, test=0.0824]\u001b[A\n",
      " 74%|███████▎  | 221/300 [01:41<00:35,  2.24it/s, train=0.0278, test=0.0802]\u001b[A\n",
      " 74%|███████▍  | 222/300 [01:41<00:34,  2.26it/s, train=0.0278, test=0.0802]\u001b[A\n",
      " 74%|███████▍  | 222/300 [01:42<00:34,  2.26it/s, train=0.0285, test=0.0855]\u001b[A\n",
      " 74%|███████▍  | 223/300 [01:42<00:34,  2.26it/s, train=0.0285, test=0.0855]\u001b[A\n",
      " 74%|███████▍  | 223/300 [01:42<00:34,  2.26it/s, train=0.0286, test=0.0812]\u001b[A\n",
      " 75%|███████▍  | 224/300 [01:42<00:34,  2.23it/s, train=0.0286, test=0.0812]\u001b[A\n",
      " 75%|███████▍  | 224/300 [01:43<00:34,  2.23it/s, train=0.0276, test=0.0751]\u001b[A\n",
      " 75%|███████▌  | 225/300 [01:43<00:33,  2.24it/s, train=0.0276, test=0.0751]\u001b[A\n",
      " 75%|███████▌  | 225/300 [01:43<00:33,  2.24it/s, train=0.0268, test=0.0829]\u001b[A\n",
      " 75%|███████▌  | 226/300 [01:43<00:32,  2.24it/s, train=0.0268, test=0.0829]\u001b[A\n",
      " 75%|███████▌  | 226/300 [01:43<00:32,  2.24it/s, train=0.0275, test=0.0846]\u001b[A\n",
      " 76%|███████▌  | 227/300 [01:43<00:32,  2.26it/s, train=0.0275, test=0.0846]\u001b[A\n",
      " 76%|███████▌  | 227/300 [01:44<00:32,  2.26it/s, train=0.0283, test=0.0888]\u001b[A\n",
      " 76%|███████▌  | 228/300 [01:44<00:32,  2.25it/s, train=0.0283, test=0.0888]\u001b[A\n",
      " 76%|███████▌  | 228/300 [01:44<00:32,  2.25it/s, train=0.028, test=0.0745] \u001b[A\n",
      " 76%|███████▋  | 229/300 [01:44<00:31,  2.22it/s, train=0.028, test=0.0745]\u001b[A\n",
      " 76%|███████▋  | 229/300 [01:45<00:31,  2.22it/s, train=0.0268, test=0.0845]\u001b[A\n",
      " 77%|███████▋  | 230/300 [01:45<00:31,  2.22it/s, train=0.0268, test=0.0845]\u001b[A\n",
      " 77%|███████▋  | 230/300 [01:45<00:31,  2.22it/s, train=0.0259, test=0.0741]\u001b[A\n",
      " 77%|███████▋  | 231/300 [01:45<00:31,  2.22it/s, train=0.0259, test=0.0741]\u001b[A\n",
      " 77%|███████▋  | 231/300 [01:46<00:31,  2.22it/s, train=0.0275, test=0.0838]\u001b[A\n",
      " 77%|███████▋  | 232/300 [01:46<00:30,  2.23it/s, train=0.0275, test=0.0838]\u001b[A\n",
      " 77%|███████▋  | 232/300 [01:46<00:30,  2.23it/s, train=0.0297, test=0.0793]\u001b[A\n",
      " 78%|███████▊  | 233/300 [01:46<00:29,  2.24it/s, train=0.0297, test=0.0793]\u001b[A\n",
      " 78%|███████▊  | 233/300 [01:47<00:29,  2.24it/s, train=0.0296, test=0.0839]\u001b[A\n",
      " 78%|███████▊  | 234/300 [01:47<00:29,  2.22it/s, train=0.0296, test=0.0839]\u001b[A\n",
      " 78%|███████▊  | 234/300 [01:47<00:29,  2.22it/s, train=0.0263, test=0.0764]\u001b[A\n",
      " 78%|███████▊  | 235/300 [01:47<00:29,  2.19it/s, train=0.0263, test=0.0764]\u001b[A\n",
      " 78%|███████▊  | 235/300 [01:47<00:29,  2.19it/s, train=0.0273, test=0.0797]\u001b[A\n",
      " 79%|███████▊  | 236/300 [01:47<00:28,  2.22it/s, train=0.0273, test=0.0797]\u001b[A\n",
      " 79%|███████▊  | 236/300 [01:48<00:28,  2.22it/s, train=0.0263, test=0.0793]\u001b[A\n",
      " 79%|███████▉  | 237/300 [01:48<00:28,  2.18it/s, train=0.0263, test=0.0793]\u001b[A\n",
      " 79%|███████▉  | 237/300 [01:48<00:28,  2.18it/s, train=0.0272, test=0.0786]\u001b[A\n",
      " 79%|███████▉  | 238/300 [01:48<00:28,  2.18it/s, train=0.0272, test=0.0786]\u001b[A\n",
      " 79%|███████▉  | 238/300 [01:49<00:28,  2.18it/s, train=0.0274, test=0.0805]\u001b[A\n",
      " 80%|███████▉  | 239/300 [01:49<00:29,  2.10it/s, train=0.0274, test=0.0805]\u001b[A\n",
      " 80%|███████▉  | 239/300 [01:49<00:29,  2.10it/s, train=0.0274, test=0.0839]\u001b[A\n",
      " 80%|████████  | 240/300 [01:49<00:28,  2.11it/s, train=0.0274, test=0.0839]\u001b[A\n",
      " 80%|████████  | 240/300 [01:50<00:28,  2.11it/s, train=0.0276, test=0.0805]\u001b[A\n",
      " 80%|████████  | 241/300 [01:50<00:28,  2.07it/s, train=0.0276, test=0.0805]\u001b[A\n",
      " 80%|████████  | 241/300 [01:50<00:28,  2.07it/s, train=0.0264, test=0.0827]\u001b[A\n",
      " 81%|████████  | 242/300 [01:50<00:27,  2.10it/s, train=0.0264, test=0.0827]\u001b[A\n",
      " 81%|████████  | 242/300 [01:51<00:27,  2.10it/s, train=0.0258, test=0.0795]\u001b[A\n",
      " 81%|████████  | 243/300 [01:51<00:26,  2.13it/s, train=0.0258, test=0.0795]\u001b[A\n",
      " 81%|████████  | 243/300 [01:51<00:26,  2.13it/s, train=0.0255, test=0.0799]\u001b[A\n",
      " 81%|████████▏ | 244/300 [01:51<00:25,  2.19it/s, train=0.0255, test=0.0799]\u001b[A\n",
      " 81%|████████▏ | 244/300 [01:52<00:25,  2.19it/s, train=0.0243, test=0.0808]\u001b[A\n",
      " 82%|████████▏ | 245/300 [01:52<00:24,  2.22it/s, train=0.0243, test=0.0808]\u001b[A\n",
      " 82%|████████▏ | 245/300 [01:52<00:24,  2.22it/s, train=0.0242, test=0.0842]\u001b[A\n",
      " 82%|████████▏ | 246/300 [01:52<00:23,  2.25it/s, train=0.0242, test=0.0842]\u001b[A\n",
      " 82%|████████▏ | 246/300 [01:53<00:23,  2.25it/s, train=0.0236, test=0.0782]\u001b[A\n",
      " 82%|████████▏ | 247/300 [01:53<00:24,  2.19it/s, train=0.0236, test=0.0782]\u001b[A\n",
      " 82%|████████▏ | 247/300 [01:53<00:24,  2.19it/s, train=0.0227, test=0.0866]\u001b[A\n",
      " 83%|████████▎ | 248/300 [01:53<00:24,  2.16it/s, train=0.0227, test=0.0866]\u001b[A\n",
      " 83%|████████▎ | 248/300 [01:54<00:24,  2.16it/s, train=0.0223, test=0.082] \u001b[A\n",
      " 83%|████████▎ | 249/300 [01:54<00:23,  2.21it/s, train=0.0223, test=0.082]\u001b[A\n",
      " 83%|████████▎ | 249/300 [01:54<00:23,  2.21it/s, train=0.0228, test=0.0786]\u001b[A\n",
      " 83%|████████▎ | 250/300 [01:54<00:22,  2.20it/s, train=0.0228, test=0.0786]\u001b[A\n",
      " 83%|████████▎ | 250/300 [01:54<00:22,  2.20it/s, train=0.0226, test=0.0781]\u001b[A\n",
      " 84%|████████▎ | 251/300 [01:54<00:22,  2.20it/s, train=0.0226, test=0.0781]\u001b[A\n",
      " 84%|████████▎ | 251/300 [01:55<00:22,  2.20it/s, train=0.0219, test=0.0825]\u001b[A\n",
      " 84%|████████▍ | 252/300 [01:55<00:21,  2.19it/s, train=0.0219, test=0.0825]\u001b[A\n",
      " 84%|████████▍ | 252/300 [01:55<00:21,  2.19it/s, train=0.0269, test=0.0816]\u001b[A\n",
      " 84%|████████▍ | 253/300 [01:55<00:21,  2.20it/s, train=0.0269, test=0.0816]\u001b[A\n",
      " 84%|████████▍ | 253/300 [01:56<00:21,  2.20it/s, train=0.0267, test=0.0997]\u001b[A\n",
      " 85%|████████▍ | 254/300 [01:56<00:21,  2.17it/s, train=0.0267, test=0.0997]\u001b[A\n",
      " 85%|████████▍ | 254/300 [01:56<00:21,  2.17it/s, train=0.0256, test=0.0792]\u001b[A\n",
      " 85%|████████▌ | 255/300 [01:56<00:20,  2.15it/s, train=0.0256, test=0.0792]\u001b[A\n",
      " 85%|████████▌ | 255/300 [01:57<00:20,  2.15it/s, train=0.025, test=0.0741] \u001b[A\n",
      " 85%|████████▌ | 256/300 [01:57<00:20,  2.14it/s, train=0.025, test=0.0741]\u001b[A\n",
      " 85%|████████▌ | 256/300 [01:57<00:20,  2.14it/s, train=0.0221, test=0.0866]\u001b[A\n",
      " 86%|████████▌ | 257/300 [01:57<00:20,  2.14it/s, train=0.0221, test=0.0866]\u001b[A\n",
      " 86%|████████▌ | 257/300 [01:58<00:20,  2.14it/s, train=0.0217, test=0.083] \u001b[A\n",
      " 86%|████████▌ | 258/300 [01:58<00:19,  2.15it/s, train=0.0217, test=0.083]\u001b[A\n"
     ]
    },
    {
     "name": "stderr",
     "output_type": "stream",
     "text": [
      " 86%|████████▌ | 258/300 [01:58<00:19,  2.15it/s, train=0.0221, test=0.0804]\u001b[A\n",
      " 86%|████████▋ | 259/300 [01:58<00:19,  2.15it/s, train=0.0221, test=0.0804]\u001b[A\n",
      " 86%|████████▋ | 259/300 [01:59<00:19,  2.15it/s, train=0.0229, test=0.0845]\u001b[A\n",
      " 87%|████████▋ | 260/300 [01:59<00:18,  2.16it/s, train=0.0229, test=0.0845]\u001b[A\n",
      " 87%|████████▋ | 260/300 [01:59<00:18,  2.16it/s, train=0.0233, test=0.0871]\u001b[A\n",
      " 87%|████████▋ | 261/300 [01:59<00:18,  2.13it/s, train=0.0233, test=0.0871]\u001b[A\n",
      " 87%|████████▋ | 261/300 [02:00<00:18,  2.13it/s, train=0.022, test=0.0799] \u001b[A\n",
      " 87%|████████▋ | 262/300 [02:00<00:17,  2.15it/s, train=0.022, test=0.0799]\u001b[A\n",
      " 87%|████████▋ | 262/300 [02:00<00:17,  2.15it/s, train=0.021, test=0.0789]\u001b[A\n",
      " 88%|████████▊ | 263/300 [02:00<00:17,  2.15it/s, train=0.021, test=0.0789]\u001b[A\n",
      " 88%|████████▊ | 263/300 [02:00<00:17,  2.15it/s, train=0.0201, test=0.0818]\u001b[A\n",
      " 88%|████████▊ | 264/300 [02:00<00:16,  2.15it/s, train=0.0201, test=0.0818]\u001b[A\n",
      " 88%|████████▊ | 264/300 [02:01<00:16,  2.15it/s, train=0.0196, test=0.0841]\u001b[A\n",
      " 88%|████████▊ | 265/300 [02:01<00:16,  2.15it/s, train=0.0196, test=0.0841]\u001b[A\n",
      " 88%|████████▊ | 265/300 [02:01<00:16,  2.15it/s, train=0.0197, test=0.0857]\u001b[A\n",
      " 89%|████████▊ | 266/300 [02:01<00:15,  2.16it/s, train=0.0197, test=0.0857]\u001b[A\n",
      " 89%|████████▊ | 266/300 [02:02<00:15,  2.16it/s, train=0.0199, test=0.0818]\u001b[A\n",
      " 89%|████████▉ | 267/300 [02:02<00:15,  2.16it/s, train=0.0199, test=0.0818]\u001b[A\n",
      " 89%|████████▉ | 267/300 [02:02<00:15,  2.16it/s, train=0.0199, test=0.0795]\u001b[A\n",
      " 89%|████████▉ | 268/300 [02:02<00:14,  2.17it/s, train=0.0199, test=0.0795]\u001b[A\n",
      " 89%|████████▉ | 268/300 [02:03<00:14,  2.17it/s, train=0.0193, test=0.0832]\u001b[A\n",
      " 90%|████████▉ | 269/300 [02:03<00:14,  2.21it/s, train=0.0193, test=0.0832]\u001b[A\n",
      " 90%|████████▉ | 269/300 [02:03<00:14,  2.21it/s, train=0.0194, test=0.0808]\u001b[A\n",
      " 90%|█████████ | 270/300 [02:03<00:13,  2.22it/s, train=0.0194, test=0.0808]\u001b[A\n",
      " 90%|█████████ | 270/300 [02:04<00:13,  2.22it/s, train=0.0191, test=0.0806]\u001b[A\n",
      " 90%|█████████ | 271/300 [02:04<00:12,  2.26it/s, train=0.0191, test=0.0806]\u001b[A\n",
      " 90%|█████████ | 271/300 [02:04<00:12,  2.26it/s, train=0.019, test=0.0809] \u001b[A\n",
      " 91%|█████████ | 272/300 [02:04<00:12,  2.24it/s, train=0.019, test=0.0809]\u001b[A\n",
      " 91%|█████████ | 272/300 [02:05<00:12,  2.24it/s, train=0.0187, test=0.0807]\u001b[A\n",
      " 91%|█████████ | 273/300 [02:05<00:12,  2.24it/s, train=0.0187, test=0.0807]\u001b[A\n",
      " 91%|█████████ | 273/300 [02:05<00:12,  2.24it/s, train=0.0188, test=0.089] \u001b[A\n",
      " 91%|█████████▏| 274/300 [02:05<00:11,  2.20it/s, train=0.0188, test=0.089]\u001b[A\n",
      " 91%|█████████▏| 274/300 [02:05<00:11,  2.20it/s, train=0.0193, test=0.0763]\u001b[A\n",
      " 92%|█████████▏| 275/300 [02:05<00:11,  2.17it/s, train=0.0193, test=0.0763]\u001b[A\n",
      " 92%|█████████▏| 275/300 [02:06<00:11,  2.17it/s, train=0.02, test=0.0876]  \u001b[A\n",
      " 92%|█████████▏| 276/300 [02:06<00:10,  2.20it/s, train=0.02, test=0.0876]\u001b[A\n",
      " 92%|█████████▏| 276/300 [02:06<00:10,  2.20it/s, train=0.0218, test=0.0797]\u001b[A\n",
      " 92%|█████████▏| 277/300 [02:06<00:10,  2.18it/s, train=0.0218, test=0.0797]\u001b[A\n",
      " 92%|█████████▏| 277/300 [02:07<00:10,  2.18it/s, train=0.0204, test=0.0821]\u001b[A\n",
      " 93%|█████████▎| 278/300 [02:07<00:10,  2.18it/s, train=0.0204, test=0.0821]\u001b[A\n",
      " 93%|█████████▎| 278/300 [02:07<00:10,  2.18it/s, train=0.0192, test=0.0777]\u001b[A\n",
      " 93%|█████████▎| 279/300 [02:07<00:09,  2.20it/s, train=0.0192, test=0.0777]\u001b[A\n",
      " 93%|█████████▎| 279/300 [02:08<00:09,  2.20it/s, train=0.0187, test=0.0831]\u001b[A\n",
      " 93%|█████████▎| 280/300 [02:08<00:09,  2.20it/s, train=0.0187, test=0.0831]\u001b[A\n",
      " 93%|█████████▎| 280/300 [02:08<00:09,  2.20it/s, train=0.0201, test=0.0979]\u001b[A\n",
      " 94%|█████████▎| 281/300 [02:08<00:08,  2.17it/s, train=0.0201, test=0.0979]\u001b[A\n",
      " 94%|█████████▎| 281/300 [02:09<00:08,  2.17it/s, train=0.0222, test=0.0816]\u001b[A\n",
      " 94%|█████████▍| 282/300 [02:09<00:08,  2.12it/s, train=0.0222, test=0.0816]\u001b[A\n",
      " 94%|█████████▍| 282/300 [02:09<00:08,  2.12it/s, train=0.0232, test=0.0854]\u001b[A\n",
      " 94%|█████████▍| 283/300 [02:09<00:08,  2.10it/s, train=0.0232, test=0.0854]\u001b[A\n",
      " 94%|█████████▍| 283/300 [02:10<00:08,  2.10it/s, train=0.0232, test=0.0852]\u001b[A\n",
      " 95%|█████████▍| 284/300 [02:10<00:07,  2.09it/s, train=0.0232, test=0.0852]\u001b[A\n",
      " 95%|█████████▍| 284/300 [02:10<00:07,  2.09it/s, train=0.0239, test=0.0837]\u001b[A\n",
      " 95%|█████████▌| 285/300 [02:10<00:07,  2.12it/s, train=0.0239, test=0.0837]\u001b[A\n",
      " 95%|█████████▌| 285/300 [02:11<00:07,  2.12it/s, train=0.0222, test=0.0846]\u001b[A\n",
      " 95%|█████████▌| 286/300 [02:11<00:06,  2.10it/s, train=0.0222, test=0.0846]\u001b[A\n",
      " 95%|█████████▌| 286/300 [02:11<00:06,  2.10it/s, train=0.0201, test=0.0848]\u001b[A\n",
      " 96%|█████████▌| 287/300 [02:11<00:06,  2.13it/s, train=0.0201, test=0.0848]\u001b[A\n",
      " 96%|█████████▌| 287/300 [02:12<00:06,  2.13it/s, train=0.0189, test=0.08]  \u001b[A\n",
      " 96%|█████████▌| 288/300 [02:12<00:05,  2.15it/s, train=0.0189, test=0.08]\u001b[A\n",
      " 96%|█████████▌| 288/300 [02:12<00:05,  2.15it/s, train=0.0186, test=0.0839]\u001b[A\n",
      " 96%|█████████▋| 289/300 [02:12<00:05,  2.17it/s, train=0.0186, test=0.0839]\u001b[A\n",
      " 96%|█████████▋| 289/300 [02:12<00:05,  2.17it/s, train=0.0184, test=0.0803]\u001b[A\n",
      " 97%|█████████▋| 290/300 [02:12<00:04,  2.19it/s, train=0.0184, test=0.0803]\u001b[A\n",
      " 97%|█████████▋| 290/300 [02:13<00:04,  2.19it/s, train=0.0175, test=0.0907]\u001b[A\n",
      " 97%|█████████▋| 291/300 [02:13<00:04,  2.18it/s, train=0.0175, test=0.0907]\u001b[A\n",
      " 97%|█████████▋| 291/300 [02:13<00:04,  2.18it/s, train=0.0172, test=0.0795]\u001b[A\n",
      " 97%|█████████▋| 292/300 [02:13<00:03,  2.20it/s, train=0.0172, test=0.0795]\u001b[A\n",
      " 97%|█████████▋| 292/300 [02:14<00:03,  2.20it/s, train=0.0172, test=0.0835]\u001b[A\n",
      " 98%|█████████▊| 293/300 [02:14<00:03,  2.20it/s, train=0.0172, test=0.0835]\u001b[A\n",
      " 98%|█████████▊| 293/300 [02:14<00:03,  2.20it/s, train=0.018, test=0.0822] \u001b[A\n",
      " 98%|█████████▊| 294/300 [02:14<00:02,  2.21it/s, train=0.018, test=0.0822]\u001b[A\n",
      " 98%|█████████▊| 294/300 [02:15<00:02,  2.21it/s, train=0.0197, test=0.0794]\u001b[A\n",
      " 98%|█████████▊| 295/300 [02:15<00:02,  2.20it/s, train=0.0197, test=0.0794]\u001b[A\n",
      " 98%|█████████▊| 295/300 [02:15<00:02,  2.20it/s, train=0.0213, test=0.0986]\u001b[A\n",
      " 99%|█████████▊| 296/300 [02:15<00:01,  2.22it/s, train=0.0213, test=0.0986]\u001b[A\n",
      " 99%|█████████▊| 296/300 [02:16<00:01,  2.22it/s, train=0.0199, test=0.0852]\u001b[A\n",
      " 99%|█████████▉| 297/300 [02:16<00:01,  2.24it/s, train=0.0199, test=0.0852]\u001b[A\n",
      " 99%|█████████▉| 297/300 [02:16<00:01,  2.24it/s, train=0.0208, test=0.0836]\u001b[A\n",
      " 99%|█████████▉| 298/300 [02:16<00:00,  2.24it/s, train=0.0208, test=0.0836]\u001b[A\n",
      " 99%|█████████▉| 298/300 [02:16<00:00,  2.24it/s, train=0.0187, test=0.0863]\u001b[A\n",
      "100%|█████████▉| 299/300 [02:16<00:00,  2.24it/s, train=0.0187, test=0.0863]\u001b[A\n",
      "100%|█████████▉| 299/300 [02:17<00:00,  2.24it/s, train=0.0179, test=0.0827]\u001b[A\n",
      "100%|██████████| 300/300 [02:17<00:00,  2.18it/s, train=0.0179, test=0.0827]\u001b[A\n"
     ]
    }
   ],
   "source": [
    "optimizer = snt.optimizers.Adam(hp.learning_rate)\n",
    "\n",
    "\n",
    "\n",
    "opt_one_epoch = gatt.training.make_tf_opt_epoch_fn(exp.x_train, exp.y_train, hp.batch_size, model,\n",
    "                                      optimizer, task_loss)\n",
    "\n",
    "pbar = tqdm(range(hp.epochs))\n",
    "losses = collections.defaultdict(list)\n",
    "start_time = time.time()\n",
    "for _ in pbar:\n",
    "    train_loss = opt_one_epoch(exp.x_train, exp.y_train).numpy()\n",
    "    losses['train'].append(train_loss)\n",
    "    losses['test'].append(task_loss(exp.y_test, model(exp.x_test)).numpy())\n",
    "    pbar.set_postfix({key: values[-1] for key, values in losses.items()})\n",
    "\n",
    "losses = {key: np.array(values) for key, values in losses.items()}"
   ]
  },
  {
   "cell_type": "markdown",
   "metadata": {
    "colab_type": "text",
    "id": "AhopNuNnU4ZP"
   },
   "source": [
    "## Plot losses"
   ]
  },
  {
   "cell_type": "code",
   "execution_count": 15,
   "metadata": {
    "ExecuteTime": {
     "end_time": "2020-11-19T20:06:21.401827Z",
     "start_time": "2020-11-19T20:06:21.123503Z"
    },
    "colab": {},
    "colab_type": "code",
    "id": "x-l_IsAKOj__",
    "scrolled": true
   },
   "outputs": [
    {
     "data": {
      "image/png": "[encoded data removed]",
      "text/plain": [
       "<Figure size 432x288 with 1 Axes>"
      ]
     },
     "metadata": {
      "needs_background": "light"
     },
     "output_type": "display_data"
    }
   ],
   "source": [
    "for key, values in losses.items():\n",
    "  plt.plot(values, label=key)\n",
    "plt.ylabel('loss')\n",
    "plt.xlabel('epochs')\n",
    "plt.legend()\n",
    "plt.show()"
   ]
  },
  {
   "cell_type": "markdown",
   "metadata": {
    "colab_type": "text",
    "id": "cE8ivqFFmlBk"
   },
   "source": [
    "# Evaluate predictions and attributions"
   ]
  },
  {
   "cell_type": "code",
   "execution_count": 61,
   "metadata": {
    "ExecuteTime": {
     "end_time": "2020-11-19T20:09:10.663044Z",
     "start_time": "2020-11-19T20:06:30.124486Z"
    },
    "colab": {},
    "colab_type": "code",
    "id": "Ytyo5Om_4evs"
   },
   "outputs": [
    {
     "data": {
      "text/html": [
       "<div>\n",
       "<style scoped>\n",
       "    .dataframe tbody tr th:only-of-type {\n",
       "        vertical-align: middle;\n",
       "    }\n",
       "\n",
       "    .dataframe tbody tr th {\n",
       "        vertical-align: top;\n",
       "    }\n",
       "\n",
       "    .dataframe thead th {\n",
       "        text-align: right;\n",
       "    }\n",
       "</style>\n",
       "<table border=\"1\" class=\"dataframe\">\n",
       "  <thead>\n",
       "    <tr style=\"text-align: right;\">\n",
       "      <th></th>\n",
       "      <th>ATT AUROC</th>\n",
       "      <th>ATT F1</th>\n",
       "      <th>ATT ACC</th>\n",
       "      <th>AUROC</th>\n",
       "      <th>F1</th>\n",
       "      <th>ACC</th>\n",
       "      <th>Task</th>\n",
       "      <th>Technique</th>\n",
       "      <th>Model</th>\n",
       "    </tr>\n",
       "  </thead>\n",
       "  <tbody>\n",
       "    <tr>\n",
       "      <th>0</th>\n",
       "      <td>0.431363</td>\n",
       "      <td>0.031471</td>\n",
       "      <td>0.019034</td>\n",
       "      <td>0.985848</td>\n",
       "      <td>0.854369</td>\n",
       "      <td>0.969136</td>\n",
       "      <td>(flouride &amp; carbonyl)</td>\n",
       "      <td>Random</td>\n",
       "      <td>gcn</td>\n",
       "    </tr>\n",
       "    <tr>\n",
       "      <th>1</th>\n",
       "      <td>0.596334</td>\n",
       "      <td>0.034140</td>\n",
       "      <td>0.068074</td>\n",
       "      <td>0.985848</td>\n",
       "      <td>0.854369</td>\n",
       "      <td>0.969136</td>\n",
       "      <td>(flouride &amp; carbonyl)</td>\n",
       "      <td>GradInput</td>\n",
       "      <td>gcn</td>\n",
       "    </tr>\n",
       "    <tr>\n",
       "      <th>2</th>\n",
       "      <td>0.691677</td>\n",
       "      <td>0.038024</td>\n",
       "      <td>0.119833</td>\n",
       "      <td>0.985848</td>\n",
       "      <td>0.854369</td>\n",
       "      <td>0.969136</td>\n",
       "      <td>(flouride &amp; carbonyl)</td>\n",
       "      <td>SmoothGrad(GradInput)</td>\n",
       "      <td>gcn</td>\n",
       "    </tr>\n",
       "    <tr>\n",
       "      <th>3</th>\n",
       "      <td>0.602040</td>\n",
       "      <td>0.034197</td>\n",
       "      <td>0.067365</td>\n",
       "      <td>0.985848</td>\n",
       "      <td>0.854369</td>\n",
       "      <td>0.969136</td>\n",
       "      <td>(flouride &amp; carbonyl)</td>\n",
       "      <td>GradCAM-last</td>\n",
       "      <td>gcn</td>\n",
       "    </tr>\n",
       "    <tr>\n",
       "      <th>4</th>\n",
       "      <td>0.605443</td>\n",
       "      <td>0.035312</td>\n",
       "      <td>0.118345</td>\n",
       "      <td>0.985848</td>\n",
       "      <td>0.854369</td>\n",
       "      <td>0.969136</td>\n",
       "      <td>(flouride &amp; carbonyl)</td>\n",
       "      <td>GradCAM-all</td>\n",
       "      <td>gcn</td>\n",
       "    </tr>\n",
       "    <tr>\n",
       "      <th>5</th>\n",
       "      <td>0.791446</td>\n",
       "      <td>0.046374</td>\n",
       "      <td>0.953862</td>\n",
       "      <td>0.985848</td>\n",
       "      <td>0.854369</td>\n",
       "      <td>0.969136</td>\n",
       "      <td>(flouride &amp; carbonyl)</td>\n",
       "      <td>IG</td>\n",
       "      <td>gcn</td>\n",
       "    </tr>\n",
       "    <tr>\n",
       "      <th>6</th>\n",
       "      <td>0.767966</td>\n",
       "      <td>0.055071</td>\n",
       "      <td>0.907440</td>\n",
       "      <td>0.985848</td>\n",
       "      <td>0.854369</td>\n",
       "      <td>0.969136</td>\n",
       "      <td>(flouride &amp; carbonyl)</td>\n",
       "      <td>CAM</td>\n",
       "      <td>gcn</td>\n",
       "    </tr>\n",
       "  </tbody>\n",
       "</table>\n",
       "</div>"
      ],
      "text/plain": [
       "   ATT AUROC    ATT F1   ATT ACC     AUROC        F1       ACC  \\\n",
       "0   0.431363  0.031471  0.019034  0.985848  0.854369  0.969136   \n",
       "1   0.596334  0.034140  0.068074  0.985848  0.854369  0.969136   \n",
       "2   0.691677  0.038024  0.119833  0.985848  0.854369  0.969136   \n",
       "3   0.602040  0.034197  0.067365  0.985848  0.854369  0.969136   \n",
       "4   0.605443  0.035312  0.118345  0.985848  0.854369  0.969136   \n",
       "5   0.791446  0.046374  0.953862  0.985848  0.854369  0.969136   \n",
       "6   0.767966  0.055071  0.907440  0.985848  0.854369  0.969136   \n",
       "\n",
       "                    Task              Technique Model  \n",
       "0  (flouride & carbonyl)                 Random   gcn  \n",
       "1  (flouride & carbonyl)              GradInput   gcn  \n",
       "2  (flouride & carbonyl)  SmoothGrad(GradInput)   gcn  \n",
       "3  (flouride & carbonyl)           GradCAM-last   gcn  \n",
       "4  (flouride & carbonyl)            GradCAM-all   gcn  \n",
       "5  (flouride & carbonyl)                     IG   gcn  \n",
       "6  (flouride & carbonyl)                    CAM   gcn  "
      ]
     },
     "execution_count": 61,
     "metadata": {},
     "output_type": "execute_result"
    }
   ],
   "source": [
    "results = []\n",
    "for method in tqdm(methods.values(), total=len(methods)):\n",
    "  results.append(experiments.generate_result(model, method, task, exp.x_test, exp.y_test, exp.att_test))\n",
    "pd.DataFrame(results)"
   ]
  },
  {
   "cell_type": "markdown",
   "metadata": {},
   "source": [
    "# Visualize attributions"
   ]
  },
  {
   "cell_type": "code",
   "execution_count": null,
   "metadata": {},
   "outputs": [],
   "source": []
  }
 ],
 "metadata": {
  "colab": {
   "collapsed_sections": [],
   "last_runtime": {
    "build_target": "",
    "kind": "private"
   },
   "name": "train_evaluate.ipynb",
   "provenance": [
    {
     "file_id": "/piper/depot/google3/experimental/graph_attribution/graphnets_demo.ipynb",
     "timestamp": 1589329304332
    },
    {
     "file_id": "/piper/depot/google3/experimental/graph_attribution/graphnets_demo.ipynb",
     "timestamp": 1580393977236
    },
    {
     "file_id": "1BfVceP2yhGgdtloEZNy_lR1NP7pjWhez",
     "timestamp": 1579666920169
    },
    {
     "file_id": "1QyHsdvTHd2a4SPXCGtEsd3rL7pT2S6vO",
     "timestamp": 1578435769855
    },
    {
     "file_id": "1kzXpb_wct-EnLPOAvTvRXGCGOiLK7SkP",
     "timestamp": 1578350485474
    },
    {
     "file_id": "/piper/depot/google3/learning/deepmind/tensorflow/graph_nets/tf2/demos/sort.ipynb",
     "timestamp": 1577987457433
    },
    {
     "file_id": "13QaQPnwO8Iq5YjoSraE2Gt_jz3f9e8pc",
     "timestamp": 1571434083446
    },
    {
     "file_id": "/piper/depot/google3/third_party/py/graph_nets/demos/sort.ipynb",
     "timestamp": 1570733816658
    }
   ]
  },
  "kernelspec": {
   "display_name": "Python 3",
   "language": "python",
   "name": "python3"
  },
  "language_info": {
   "codemirror_mode": {
    "name": "ipython",
    "version": 3
   },
   "file_extension": ".py",
   "mimetype": "text/x-python",
   "name": "python",
   "nbconvert_exporter": "python",
   "pygments_lexer": "ipython3",
   "version": "3.7.10"
  },
  "toc": {
   "base_numbering": 1,
   "nav_menu": {},
   "number_sections": true,
   "sideBar": true,
   "skip_h1_title": false,
   "title_cell": "Table of Contents",
   "title_sidebar": "Contents",
   "toc_cell": false,
   "toc_position": {},
   "toc_section_display": true,
   "toc_window_display": false
  }
 },
 "nbformat": 4,
 "nbformat_minor": 1
}
